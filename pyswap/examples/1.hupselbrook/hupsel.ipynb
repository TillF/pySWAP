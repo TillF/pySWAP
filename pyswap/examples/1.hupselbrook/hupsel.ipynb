{
 "cells": [
  {
   "cell_type": "markdown",
   "metadata": {},
   "source": [
    "# Example 1: Hupsel Brook model\n",
    "\n",
    "This is the cases study #1 from the chapter 12 of the SWAP manual. This notebook aims to present the way the model is created in pySWAP package. It goes through the process of setting up the model, running the model and plotting the Epot results."
   ]
  },
  {
   "cell_type": "markdown",
   "metadata": {},
   "source": [
    "## 1. Setting up the model\n",
    "\n",
    "For each major section of the main swp file, there is a class in pySWAP that needs to be created. Then, all the objects are collected into the main Model class that is responsible for running the model and capturing the results. Some auxiliary files like .crp have their own class objects that need to be created and attached to the main class for the section."
   ]
  },
  {
   "cell_type": "markdown",
   "metadata": {},
   "source": [
    "### Metadata and Simulation settings"
   ]
  },
  {
   "cell_type": "code",
   "execution_count": 1,
   "metadata": {},
   "outputs": [],
   "source": [
    "from pyswap.core.metadata import Metadata\n",
    "from pyswap.core.simsettings import SimSettings\n",
    "\n",
    "meta = Metadata(author=\"John Doe\",\n",
    "                institution=\"University of Somewhere\",\n",
    "                email=\"john.doe@somewhere.com\",\n",
    "                project=\"pySWAP test - hupsel brook\",\n",
    "                swap_ver=\"4.2\")\n",
    "\n",
    "simset = SimSettings(\n",
    "    swscre=1,\n",
    "    swerror=1,\n",
    "    tstart='2002-01-01',\n",
    "    tend='2004-12-31',\n",
    "    nprintday=1,\n",
    "    swmonth=1,\n",
    "    period=1,\n",
    "    swres=0,\n",
    "    swodat=0,\n",
    "    outdat=['2002-01-31', '2004-12-31'],\n",
    "    swyrvar=0,\n",
    "    datefix='2004-12-31',\n",
    "    swvap=1,\n",
    "    swblc=1,\n",
    "    swsba=1,\n",
    "    swinc=1,\n",
    "    swcsv=1,\n",
    "    swafo=0,\n",
    "    swaun=0,\n",
    "    inlist_csv=['rain', 'irrig', 'interc', 'runoff', 'drainage',\n",
    "                'dstor', 'epot', 'eact', 'tpot', 'tact', 'qbottom', 'gwl'],\n",
    "    critdevmasbal=0.00001,\n",
    "    numnodnew=6,\n",
    "    dznew=[10.0, 10.0, 10.0, 20.0, 30.0, 50.0]\n",
    ")"
   ]
  },
  {
   "cell_type": "code",
   "execution_count": 3,
   "metadata": {},
   "outputs": [
    {
     "data": {
      "text/html": [
       "<div>\n",
       "<style scoped>\n",
       "    .dataframe tbody tr th:only-of-type {\n",
       "        vertical-align: middle;\n",
       "    }\n",
       "\n",
       "    .dataframe tbody tr th {\n",
       "        vertical-align: top;\n",
       "    }\n",
       "\n",
       "    .dataframe thead th {\n",
       "        text-align: right;\n",
       "    }\n",
       "</style>\n",
       "<table border=\"1\" class=\"dataframe\">\n",
       "  <thead>\n",
       "    <tr style=\"text-align: right;\">\n",
       "      <th></th>\n",
       "      <th>DATETIME</th>\n",
       "      <th>RAIN</th>\n",
       "      <th>IRRIG</th>\n",
       "      <th>INTERC</th>\n",
       "      <th>RUNOFF</th>\n",
       "      <th>EPOT</th>\n",
       "      <th>EACT</th>\n",
       "      <th>DRAINAGE</th>\n",
       "      <th>QBOTTOM</th>\n",
       "      <th>GWL</th>\n",
       "      <th>TPOT</th>\n",
       "      <th>TACT</th>\n",
       "      <th>DSTOR</th>\n",
       "    </tr>\n",
       "  </thead>\n",
       "  <tbody>\n",
       "    <tr>\n",
       "      <th>0</th>\n",
       "      <td>2002-01-31</td>\n",
       "      <td>4.26</td>\n",
       "      <td>0.5</td>\n",
       "      <td>0.00000</td>\n",
       "      <td>0.0</td>\n",
       "      <td>0.00000</td>\n",
       "      <td>0.00000</td>\n",
       "      <td>2.99895</td>\n",
       "      <td>0.0</td>\n",
       "      <td>-64.59854</td>\n",
       "      <td>3.131000e-09</td>\n",
       "      <td>0.00000</td>\n",
       "      <td>1.76105</td>\n",
       "    </tr>\n",
       "    <tr>\n",
       "      <th>1</th>\n",
       "      <td>2002-02-28</td>\n",
       "      <td>12.27</td>\n",
       "      <td>0.0</td>\n",
       "      <td>0.00000</td>\n",
       "      <td>0.0</td>\n",
       "      <td>0.01590</td>\n",
       "      <td>0.01590</td>\n",
       "      <td>10.64373</td>\n",
       "      <td>0.0</td>\n",
       "      <td>-49.63714</td>\n",
       "      <td>2.828000e-09</td>\n",
       "      <td>0.00000</td>\n",
       "      <td>1.61037</td>\n",
       "    </tr>\n",
       "    <tr>\n",
       "      <th>2</th>\n",
       "      <td>2002-03-31</td>\n",
       "      <td>3.55</td>\n",
       "      <td>0.0</td>\n",
       "      <td>0.00000</td>\n",
       "      <td>0.0</td>\n",
       "      <td>0.19253</td>\n",
       "      <td>0.19253</td>\n",
       "      <td>6.43897</td>\n",
       "      <td>0.0</td>\n",
       "      <td>-73.61567</td>\n",
       "      <td>3.131000e-09</td>\n",
       "      <td>0.00000</td>\n",
       "      <td>-3.08149</td>\n",
       "    </tr>\n",
       "    <tr>\n",
       "      <th>3</th>\n",
       "      <td>2002-04-30</td>\n",
       "      <td>4.21</td>\n",
       "      <td>0.0</td>\n",
       "      <td>0.00000</td>\n",
       "      <td>0.0</td>\n",
       "      <td>0.40198</td>\n",
       "      <td>0.40198</td>\n",
       "      <td>2.23052</td>\n",
       "      <td>0.0</td>\n",
       "      <td>-64.93368</td>\n",
       "      <td>3.030000e-09</td>\n",
       "      <td>0.00000</td>\n",
       "      <td>1.57750</td>\n",
       "    </tr>\n",
       "    <tr>\n",
       "      <th>4</th>\n",
       "      <td>2002-05-31</td>\n",
       "      <td>5.28</td>\n",
       "      <td>0.0</td>\n",
       "      <td>0.02657</td>\n",
       "      <td>0.0</td>\n",
       "      <td>0.57016</td>\n",
       "      <td>0.57016</td>\n",
       "      <td>6.26083</td>\n",
       "      <td>0.0</td>\n",
       "      <td>-73.72813</td>\n",
       "      <td>1.962000e-02</td>\n",
       "      <td>0.01962</td>\n",
       "      <td>-1.59718</td>\n",
       "    </tr>\n",
       "  </tbody>\n",
       "</table>\n",
       "</div>"
      ],
      "text/plain": [
       "     DATETIME   RAIN  IRRIG   INTERC  RUNOFF     EPOT     EACT  DRAINAGE  \\\n",
       "0  2002-01-31   4.26    0.5  0.00000     0.0  0.00000  0.00000   2.99895   \n",
       "1  2002-02-28  12.27    0.0  0.00000     0.0  0.01590  0.01590  10.64373   \n",
       "2  2002-03-31   3.55    0.0  0.00000     0.0  0.19253  0.19253   6.43897   \n",
       "3  2002-04-30   4.21    0.0  0.00000     0.0  0.40198  0.40198   2.23052   \n",
       "4  2002-05-31   5.28    0.0  0.02657     0.0  0.57016  0.57016   6.26083   \n",
       "\n",
       "   QBOTTOM       GWL          TPOT     TACT    DSTOR  \n",
       "0      0.0 -64.59854  3.131000e-09  0.00000  1.76105  \n",
       "1      0.0 -49.63714  2.828000e-09  0.00000  1.61037  \n",
       "2      0.0 -73.61567  3.131000e-09  0.00000 -3.08149  \n",
       "3      0.0 -64.93368  3.030000e-09  0.00000  1.57750  \n",
       "4      0.0 -73.72813  1.962000e-02  0.01962 -1.59718  "
      ]
     },
     "execution_count": 3,
     "metadata": {},
     "output_type": "execute_result"
    }
   ],
   "source": [
    "df.head()"
   ]
  },
  {
   "cell_type": "code",
   "execution_count": 4,
   "metadata": {},
   "outputs": [
    {
     "data": {
      "text/plain": [
       "<Axes: >"
      ]
     },
     "execution_count": 4,
     "metadata": {},
     "output_type": "execute_result"
    },
    {
     "data": {
      "image/png": "[encoded data removed]",
      "text/plain": [
       "<Figure size 640x480 with 1 Axes>"
      ]
     },
     "metadata": {},
     "output_type": "display_data"
    }
   ],
   "source": [
    "df['GWL'].plot()"
   ]
  }
 ],
 "metadata": {
  "kernelspec": {
   "display_name": "pyswap",
   "language": "python",
   "name": "python3"
  },
  "language_info": {
   "codemirror_mode": {
    "name": "ipython",
    "version": 3
   },
   "file_extension": ".py",
   "mimetype": "text/x-python",
   "name": "python",
   "nbconvert_exporter": "python",
   "pygments_lexer": "ipython3",
   "version": "3.11.5"
  }
 },
 "nbformat": 4,
 "nbformat_minor": 2
}
