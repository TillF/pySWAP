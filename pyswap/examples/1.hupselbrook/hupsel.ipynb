{
 "cells": [
  {
   "cell_type": "markdown",
   "metadata": {},
   "source": [
    "# Example 1: Hupsel Brook model\n",
    "\n",
    "This is the cases study #1 from the chapter 12 of the SWAP manual. This notebook aims to present the way the model is created in pySWAP package. It goes through the process of setting up the model, running the model and plotting the Epot results."
   ]
  },
  {
   "cell_type": "markdown",
   "metadata": {},
   "source": [
    "## 1. Setting up the model\n",
    "\n",
    "For each major section of the main swp file, there is a class in pySWAP that needs to be created. Then, all the objects are collected into the main Model class that is responsible for running the model and capturing the results. Some auxiliary files like .crp have their own class objects that need to be created and attached to the main class for the section."
   ]
  },
  {
   "cell_type": "markdown",
   "metadata": {},
   "source": [
    "### Metadata and Simulation Settings"
   ]
  },
  {
   "cell_type": "code",
   "execution_count": 2,
   "metadata": {},
   "outputs": [],
   "source": [
    "from pyswap.core.metadata import Metadata\n",
    "from pyswap.core.simsettings import SimSettings\n",
    "\n",
    "meta = Metadata(author=\"John Doe\",\n",
    "                institution=\"University of Somewhere\",\n",
    "                email=\"john.doe@somewhere.com\",\n",
    "                project=\"pySWAP test - hupsel brook\",\n",
    "                swap_ver=\"4.2\")\n",
    "\n",
    "inlist_csv = ['rain', 'irrig', 'interc', 'runoff', 'drainage',\n",
    "                'dstor', 'epot', 'eact', 'tpot', 'tact', 'qbottom', 'gwl']\n",
    "\n",
    "simset = SimSettings(\n",
    "    tstart='2002-01-01',\n",
    "    tend='2004-12-31',\n",
    "    nprintday=1,\n",
    "    swmonth=1,\n",
    "    swyrvar=0,\n",
    "    datefix='2004-12-31',\n",
    "    swvap=1,\n",
    "    swblc=1,\n",
    "    swsba=1,\n",
    "    swinc=1,\n",
    "    swcsv=1,\n",
    "    inlist_csv=['watbal']\n",
    ")"
   ]
  },
  {
   "cell_type": "markdown",
   "metadata": {},
   "source": [
    "### Meteorological settings\n",
    "\n",
    "For the meteorological section, there are three class objects: \n",
    "- PenmanMoteith - in case you want to use P-M method for Evap, the settings are stored there\n",
    "- MeteorologicalData - this holds the precipitation data\n",
    "- Meteorology - the main class object for the meteorological settings"
   ]
  },
  {
   "cell_type": "code",
   "execution_count": 3,
   "metadata": {},
   "outputs": [],
   "source": [
    "from pyswap.atmosphere.meteorology import Meteorology, MeteorologicalData, PenmanMonteith\n",
    "\n",
    "\n",
    "pen_mon = PenmanMonteith(\n",
    "    alt=10.0,\n",
    "    altw=10.0,\n",
    "    angstroma=0.25,\n",
    "    angstromb=0.5,\n",
    ")\n",
    "\n",
    "meteo_data = MeteorologicalData()\n",
    "meteo_data.weather_kmni(station='283')\n",
    "\n",
    "meteo = Meteorology(\n",
    "    metfil='283.met',\n",
    "    lat=52.0,\n",
    "    swetr=0,\n",
    "    file_meteo=meteo_data,\n",
    "    penman_monteith=pen_mon,\n",
    "    swdivide=1,\n",
    "    swmetdetail=0\n",
    ")"
   ]
  },
  {
   "cell_type": "markdown",
   "metadata": {},
   "source": [
    "### Crop settings"
   ]
  },
  {
   "cell_type": "markdown",
   "metadata": {},
   "source": [
    "Here I have taken the easy way: just opening ready .crp files and saving them further down the lines to the directory where SWAP is executer. However, the .crp files should also be prepared separately, very much the same way the .swp file is prepared. This is presented in a separate notebook."
   ]
  },
  {
   "cell_type": "markdown",
   "metadata": {},
   "source": [
    "#### Creating the maize crp file\n",
    "The CropFile has an option to either open a predefined file from a path, or create a file the same way as a swp file. Below is an example of creating a file for maize."
   ]
  },
  {
   "cell_type": "code",
   "execution_count": 4,
   "metadata": {},
   "outputs": [],
   "source": [
    "from pyswap.plant.createcrop.preparation import Preparation\n",
    "from pyswap.plant.createcrop.cropdev import (OxygenStress, DroughtStress, \n",
    "                                       SaltStress, CompensateRWUStress,\n",
    "                                       Interception)\n",
    "from pyswap.plant.createcrop.irrigation import ScheduledIrrigation\n",
    "from pyswap.plant.crop import CropFile\n",
    "from pyswap.plant.createcrop.cropdev import CropDevelopmentSettings\n",
    "from pandas import DataFrame\n",
    "\n",
    "prep = Preparation(\n",
    "    swprep=0,\n",
    "    swsow=0,\n",
    "    swgerm=0,\n",
    "    dvsend=3.0,\n",
    "    swharv=0\n",
    ")\n",
    "# Not present in the WOFOST dataset\n",
    "df_dvs_lai = DataFrame({\n",
    "        'dvs': [0.0, 0.3, 0.5, 0.7, 1.0, 1.4, 2.0],\n",
    "        'lai': [0.05, 0.14, 0.61, 4.10, 5.00, 5.80, 5.20]\n",
    "    })\n",
    "# Not present in the WOFOST dataset\n",
    "df_dvs_ch = DataFrame({\n",
    "    'dvs': [0.0, 0.3, 0.5, 0.7, 1.0, 1.4, 2.0],\n",
    "    'ch': [1.0, 15.0, 40.0, 140.0, 170.0, 180.0, 175.0]\n",
    "})\n",
    "\n",
    "df_dvs_rd = DataFrame({\n",
    "    'dvs': [0.0, 0.3, 0.5, 0.7, 1.0, 2.0],\n",
    "    'rd': [5.0, 20.0, 50.0, 80.0, 90.0, 100.0]\n",
    "})\n",
    "\n",
    "df_rrd_rdens = DataFrame({\n",
    "    'rrd': [0.0, 1.0],\n",
    "    'rdens': [1.0, 0.0]\n",
    "})\n",
    "\n",
    "cropdev_settings = CropDevelopmentSettings(\n",
    "    idev=1,\n",
    "    lcc=168,\n",
    "    kdif=0.6,\n",
    "    kdir=0.75,\n",
    "    swgc=1,\n",
    "    gctb=df_dvs_lai,\n",
    "    swcf=2,\n",
    "    table_dvs_ch=df_dvs_ch,\n",
    "    albedo=0.23,\n",
    "    rsc=61.0,\n",
    "    rsw=0.0,\n",
    "    swrd=1,\n",
    "    rdtb=df_dvs_rd,\n",
    "    rdctb=df_rrd_rdens\n",
    ")\n",
    "\n",
    "\n",
    "ox_stress = OxygenStress(\n",
    "    swoxygen=1,\n",
    "    swwrtnonox=0,\n",
    "    aeratecrit=0.5,\n",
    "    hlim1=-15.0,\n",
    "    hlim2u=-30.0,\n",
    "    hlim2l=-30.0,\n",
    ")\n",
    "\n",
    "dr_stress = DroughtStress(\n",
    "    swdrought=1,\n",
    "    hlim3h = -325.0,\n",
    "    hlim3l = -600.0,\n",
    "    hlim4 = -8000.0,\n",
    "    adcrh = 0.5,\n",
    "    adcrl = 0.1,\n",
    "    )\n",
    "\n",
    "salt_stress = SaltStress(\n",
    "    swsalinity=0\n",
    ")\n",
    "\n",
    "rwu_comp = CompensateRWUStress(\n",
    "    swcompensate=0\n",
    ")\n",
    "\n",
    "interception = Interception(\n",
    "    swinter=1,\n",
    "    cofab=0.25\n",
    ")\n",
    "\n",
    "\n",
    "schedule = ScheduledIrrigation(\n",
    "    schedule=0\n",
    ")\n",
    "\n",
    "\n",
    "crpmaize = CropFile(\n",
    "    name='maizes',\n",
    "    prep=prep,\n",
    "    cropdev_settings=cropdev_settings,\n",
    "    oxygenstress=ox_stress,\n",
    "    droughtstress=dr_stress,\n",
    "    saltstress=salt_stress,\n",
    "    compensaterwu=rwu_comp,\n",
    "    interception=interception,\n",
    "    scheduledirrigation=schedule\n",
    ")"
   ]
  },
  {
   "cell_type": "markdown",
   "metadata": {},
   "source": [
    "##### Creating the crop file for maize from the WOFOST database\n"
   ]
  },
  {
   "cell_type": "markdown",
   "metadata": {},
   "source": [
    "Parameters that overlap between the SWAP-WOFOST and the WOFOST crop files:\n",
    "{IN SWAP -> IN WOFOST if different}\n",
    "IDSL\n",
    "TSUMEA -> TSUM1\n",
    "TSUMAM -> TSUM2\n",
    "DTSMTB\n",
    "? -> DVSI (Initial development stage = 0.0)\n",
    "? -> DVSEND (development stage at harvest = 2.0)\n",
    "VERNBASE\n",
    "VERNSAT\n",
    "VERNDVS\n",
    "VERNRTB\n",
    "TDWI\n",
    "RGRLAI\n",
    "LAIEM -> ? (Leaf area index at emergence)\n",
    "SPA\n",
    "SSA -> SSATB (Specific stem area, it's a table in WOFOST but a value in SWAP)\n",
    "SPAN\n",
    "TBASE\n",
    "SLATB"
   ]
  },
  {
   "cell_type": "code",
   "execution_count": null,
   "metadata": {},
   "outputs": [],
   "source": []
  },
  {
   "cell_type": "markdown",
   "metadata": {},
   "source": [
    "#### creating the Crop object"
   ]
  },
  {
   "cell_type": "code",
   "execution_count": 5,
   "metadata": {},
   "outputs": [],
   "source": [
    "from pyswap.plant.crop import Crop, CropFile\n",
    "from pandas import DataFrame\n",
    "from datetime import date as dt\n",
    "\n",
    "croprotation = DataFrame({'cropstart': [dt(2002, 5, 1), dt(2003, 5, 10), dt(2004, 1, 1)],\n",
    "                          'cropend': [dt(2002, 10, 15), dt(2003, 9, 29), dt(2004, 12, 31)],\n",
    "                          'cropfil': [\"'maizes'\", \"'potatod'\", \"'grassd'\"],\n",
    "                          'croptype': [1, 2, 3]})\n",
    "\n",
    "crop_maizes = CropFile(name='maizes', path='./data/maizes.crp')\n",
    "crop_potatod = CropFile(name='potatod', path='./data/potatod.crp')\n",
    "crop_grassd = CropFile(name='grassd', path='./data/grassd.crp')\n",
    "\n",
    "crop = Crop(\n",
    "    swcrop=1,\n",
    "    rds=200.0,\n",
    "    table_croprotation=croprotation,\n",
    "    cropfiles=[crpmaize, crop_potatod, crop_grassd]\n",
    ")"
   ]
  },
  {
   "cell_type": "markdown",
   "metadata": {},
   "source": [
    "### Irrigation"
   ]
  },
  {
   "cell_type": "code",
   "execution_count": 1,
   "metadata": {},
   "outputs": [
    {
     "ename": "NameError",
     "evalue": "name 'DataFrame' is not defined",
     "output_type": "error",
     "traceback": [
      "\u001b[0;31m---------------------------------------------------------------------------\u001b[0m",
      "\u001b[0;31mNameError\u001b[0m                                 Traceback (most recent call last)",
      "Cell \u001b[0;32mIn[1], line 3\u001b[0m\n\u001b[1;32m      1\u001b[0m \u001b[38;5;28;01mfrom\u001b[39;00m \u001b[38;5;21;01mpyswap\u001b[39;00m\u001b[38;5;21;01m.\u001b[39;00m\u001b[38;5;21;01msoilwater\u001b[39;00m\u001b[38;5;21;01m.\u001b[39;00m\u001b[38;5;21;01mirrigation\u001b[39;00m \u001b[38;5;28;01mimport\u001b[39;00m Irrigation, FixedIrrigation\n\u001b[0;32m----> 3\u001b[0m irrig_events \u001b[38;5;241m=\u001b[39m \u001b[43mDataFrame\u001b[49m({\n\u001b[1;32m      4\u001b[0m     \u001b[38;5;124m'\u001b[39m\u001b[38;5;124mirdate\u001b[39m\u001b[38;5;124m'\u001b[39m: [\u001b[38;5;124m'\u001b[39m\u001b[38;5;124m2002-01-05\u001b[39m\u001b[38;5;124m'\u001b[39m],\n\u001b[1;32m      5\u001b[0m     \u001b[38;5;124m'\u001b[39m\u001b[38;5;124mirdepth\u001b[39m\u001b[38;5;124m'\u001b[39m: [\u001b[38;5;241m5.0\u001b[39m],\n\u001b[1;32m      6\u001b[0m     \u001b[38;5;124m'\u001b[39m\u001b[38;5;124mirconc\u001b[39m\u001b[38;5;124m'\u001b[39m: [\u001b[38;5;241m1000.0\u001b[39m],\n\u001b[1;32m      7\u001b[0m     \u001b[38;5;124m'\u001b[39m\u001b[38;5;124mirtype\u001b[39m\u001b[38;5;124m'\u001b[39m: [\u001b[38;5;241m1\u001b[39m]}\n\u001b[1;32m      8\u001b[0m )\n\u001b[1;32m     10\u001b[0m fixed_irrigation \u001b[38;5;241m=\u001b[39m FixedIrrigation(\n\u001b[1;32m     11\u001b[0m     swirgfil\u001b[38;5;241m=\u001b[39m\u001b[38;5;241m0\u001b[39m,\n\u001b[1;32m     12\u001b[0m     table_irrigevents\u001b[38;5;241m=\u001b[39mirrig_events\n\u001b[1;32m     13\u001b[0m )\n\u001b[1;32m     15\u001b[0m irrigation \u001b[38;5;241m=\u001b[39m Irrigation(\n\u001b[1;32m     16\u001b[0m     swirfix\u001b[38;5;241m=\u001b[39m\u001b[38;5;241m1\u001b[39m,\n\u001b[1;32m     17\u001b[0m     fixedirrig\u001b[38;5;241m=\u001b[39mfixed_irrigation,\n\u001b[1;32m     18\u001b[0m     schedule\u001b[38;5;241m=\u001b[39m\u001b[38;5;241m0\u001b[39m\n\u001b[1;32m     19\u001b[0m )\n",
      "\u001b[0;31mNameError\u001b[0m: name 'DataFrame' is not defined"
     ]
    }
   ],
   "source": [
    "from pyswap.soilwater.irrigation import Irrigation, FixedIrrigation\n",
    "\n",
    "irrig_events = DataFrame({\n",
    "    'irdate': ['2002-01-05'],\n",
    "    'irdepth': [5.0],\n",
    "    'irconc': [1000.0],\n",
    "    'irtype': [1]}\n",
    ")\n",
    "\n",
    "fixed_irrigation = FixedIrrigation(\n",
    "    swirgfil=0,\n",
    "    table_irrigevents=irrig_events\n",
    ")\n",
    "\n",
    "irrigation = Irrigation(\n",
    "    swirfix=1,\n",
    "    fixedirrig=fixed_irrigation,\n",
    "    schedule=0\n",
    ")"
   ]
  },
  {
   "cell_type": "markdown",
   "metadata": {},
   "source": [
    "### Soil moisture"
   ]
  },
  {
   "cell_type": "code",
   "execution_count": 7,
   "metadata": {},
   "outputs": [],
   "source": [
    "from pyswap.soilwater.soilmoisture import SoilMoisture\n",
    "\n",
    "soilmoisture = SoilMoisture(\n",
    "    swinco=2,\n",
    "    gwli=-75.0\n",
    ")"
   ]
  },
  {
   "cell_type": "markdown",
   "metadata": {},
   "source": [
    "### Surface flow"
   ]
  },
  {
   "cell_type": "code",
   "execution_count": 8,
   "metadata": {},
   "outputs": [],
   "source": [
    "from pyswap.soilwater.surfaceflow import SurfaceFlow\n",
    "\n",
    "surfaceflow = SurfaceFlow(\n",
    "    swpondmx=0,\n",
    "    pondmx=0.2,\n",
    "    rsro=0.5,\n",
    "    rsroexp=1.0,\n",
    "    swrunon=0\n",
    ")"
   ]
  },
  {
   "cell_type": "markdown",
   "metadata": {},
   "source": [
    "### Evaporation"
   ]
  },
  {
   "cell_type": "code",
   "execution_count": 9,
   "metadata": {},
   "outputs": [],
   "source": [
    "from pyswap.soilwater.evaporation import Evaporation\n",
    "\n",
    "evaporation = Evaporation(\n",
    "    cfevappond=1.25,\n",
    "    swcfbs=0,\n",
    "    rsoil=30.0,\n",
    "    swredu=1,\n",
    "    cofredbl=0.35,\n",
    "    rsigni=0.5\n",
    ")"
   ]
  },
  {
   "cell_type": "markdown",
   "metadata": {},
   "source": [
    "### Soil profile"
   ]
  },
  {
   "cell_type": "code",
   "execution_count": 10,
   "metadata": {},
   "outputs": [],
   "source": [
    "from pyswap.soilwater.soilprofile import SoilProfile\n",
    "\n",
    "soil_profile = DataFrame(\n",
    "    {'ISUBLAY': [1, 2, 3, 4],\n",
    "     'ISOILLAY': [1, 1, 2, 2],\n",
    "     'HSUBLAY': [10.0, 20.0, 30.0, 140.0],\n",
    "     'HCOMP': [1.0, 5.0, 5.0, 10.0],\n",
    "     'NCOMP': [10, 4, 6, 14]}\n",
    ")\n",
    "\n",
    "soil_hydraulic_functions = DataFrame({\n",
    "    'ORES': [0.01, 0.02],\n",
    "    'OSAT': [0.42, 0.38],\n",
    "    'ALFA': [0.0276, 0.0213],\n",
    "    'NPAR': [1.491, 1.951],\n",
    "    'KSATFIT': [12.52, 12.68],\n",
    "    'LEXP': [-1.060, 0.168],\n",
    "    'ALFAW': [0.0542, 0.0426],\n",
    "    'H_ENPR': [0.0, 0.0],\n",
    "    'KSATEXM': [12.52, 12.68],\n",
    "    'BDENS': [1315.0, 1315.0]\n",
    "})\n",
    "\n",
    "soilprofile = SoilProfile(\n",
    "    swsophy=0,\n",
    "    table_soilprofile=soil_profile,\n",
    "    swhyst=0,\n",
    "    tau=0.2,\n",
    "    table_soilhydrfunc=soil_hydraulic_functions,\n",
    "    swmacro=0\n",
    ")"
   ]
  },
  {
   "cell_type": "markdown",
   "metadata": {},
   "source": [
    "### Drainage"
   ]
  },
  {
   "cell_type": "code",
   "execution_count": 11,
   "metadata": {},
   "outputs": [],
   "source": [
    "from pyswap.soilwater.drainage import DrainageFile, LateralDrainage\n",
    "\n",
    "dranage_file = DrainageFile(\n",
    "    name='swap', path='./data/swap.dra')\n",
    "\n",
    "lateral_drainage = LateralDrainage(\n",
    "    swdra=1,\n",
    "    drfil='swap',\n",
    "    drainagefile=dranage_file\n",
    ")"
   ]
  },
  {
   "cell_type": "markdown",
   "metadata": {},
   "source": [
    "### Bottom boundary"
   ]
  },
  {
   "cell_type": "code",
   "execution_count": 12,
   "metadata": {},
   "outputs": [],
   "source": [
    "from pyswap.core.boundary import BottomBoundary\n",
    "\n",
    "bottom_boundary = BottomBoundary(\n",
    "    swbbcfile=0,\n",
    "    swbotb=6\n",
    ")"
   ]
  },
  {
   "cell_type": "markdown",
   "metadata": {},
   "source": [
    "### Extras"
   ]
  },
  {
   "cell_type": "code",
   "execution_count": 13,
   "metadata": {},
   "outputs": [],
   "source": [
    "from pyswap.soilwater.snow import SnowAndFrost\n",
    "from pyswap.soilwater.richards import RichardsSettings\n",
    "from pyswap.extras.heatflow import HeatFlow\n",
    "from pyswap.extras.solutetransport import SoluteTransport\n",
    "\n",
    "\n",
    "snow = SnowAndFrost(swsnow=0, swfrost=0)\n",
    "richards = RichardsSettings(swkmean=1, swkimpl=0)\n",
    "heat = HeatFlow(swhea=0)\n",
    "solute = SoluteTransport(swsolu=0)"
   ]
  },
  {
   "cell_type": "markdown",
   "metadata": {},
   "source": [
    "## 2. Running the model"
   ]
  },
  {
   "cell_type": "code",
   "execution_count": 14,
   "metadata": {},
   "outputs": [],
   "source": [
    "from pyswap.core.model import Model\n",
    "\n",
    "model = Model(\n",
    "    metadata=meta,\n",
    "    simsettings=simset,\n",
    "    meteorology=meteo,\n",
    "    crop=crop,\n",
    "    irrigation=irrigation,\n",
    "    soilmoisture=soilmoisture,\n",
    "    surfaceflow=surfaceflow,\n",
    "    evaporation=evaporation,\n",
    "    soilprofile=soilprofile,\n",
    "    snowandfrost=snow,\n",
    "    richards=richards,\n",
    "    lateraldrainage=lateral_drainage,\n",
    "    bottomboundary=bottom_boundary,\n",
    "    heatflow=heat,\n",
    "    solutetransport=solute\n",
    ")"
   ]
  },
  {
   "cell_type": "code",
   "execution_count": 15,
   "metadata": {},
   "outputs": [
    {
     "name": "stdout",
     "output_type": "stream",
     "text": [
      "Copying executable into temporary directory...\n",
      "Executable copied successfully!\n",
      "Preparing SWP file...\n",
      "SWP file saved successfully!\n",
      "Meteorology file saved successfully!\n",
      "Drainage file saved successfully!\n",
      "Crop file saved successfully!\n",
      "Preparing to run the model...\n",
      "Model run successfully!\n",
      "Files in temporary directory:\n",
      "['maizes.crp', 'reruns.log', 'swap.dra', 'swap.swp', 'grassd.crp', 'result.vap', 'result_output.csv', 'swap420', 'result.blc', 'potatod.crp', 'swap.ok', 'swap_swap.log', '283.met', 'result.inc']\n"
     ]
    }
   ],
   "source": [
    "result = model.run()"
   ]
  },
  {
   "cell_type": "code",
   "execution_count": 16,
   "metadata": {},
   "outputs": [
    {
     "name": "stdout",
     "output_type": "stream",
     "text": [
      "* Project:       pySWAP test - hupsel brook\n",
      "* File content:  detailed overview of water balance components (cm)\n",
      "* File name:     ./result.blc\n",
      "* Model version: Swap 4.2.0\n",
      "* Generated at:  2024-04-10 15:51:38\n",
      "\n",
      "Period             :  2002-01-01  until  2002-12-31 \n",
      "Depth soil profile :  200.00 cm\n",
      "=================================================+=================================================\n",
      "INPUT                                            | OUTPUT\n",
      "                   PLANT    SNOW    POND    SOIL |                   PLANT    SNOW    POND    SOIL\n",
      "=================================================+=================================================\n",
      "Initially Present           0.00    0.00   71.60 | Finally present            0.00    0.00   76.02\n",
      "Gross Rainfall     84.03                         |\n",
      "Nett Rainfall               0.00   80.29         | Nett Rainfall     80.29\n",
      "Gross Irrigation    0.50                         |\n",
      "Nett Irrigation                     0.50         | Nett Irrigation    0.50\n",
      "                                                 | Interception       3.74\n",
      "Snowfall                    0.00                 |\n",
      "Snowmelt                            0.00         | Snowmelt                   0.00\n",
      "                                                 | Sublimation                0.00\n",
      "SSDI                                        0.00 | Plant Transpiration                        0.75\n",
      "                                                 | Soil Evaporation                   1.82\n",
      "Runon                               0.00         | Runoff                             0.00\n",
      "Inundation                          0.00         |\n",
      "Infiltr. Soil Surf.                        80.46 | Infiltr. Soil Surf.               80.46\n",
      "Exfiltr. Soil Surf.                 1.49         | Exfiltr. Soil Surf.                        1.49\n",
      "Infiltr. subsurf.                                | Drainage\n",
      "- system 1                                  0.00 | - system 1                                73.79\n",
      "Upward seepage                              0.00 | Downward seepage                           0.00\n",
      "=================================================+=================================================\n",
      "Sum                84.53    0.00   82.28  152.05 | Sum               84.53    0.00   82.28  152.05\n",
      "=================================================+=================================================\n",
      "Storage Change              0.00    0.00    4.43\n",
      "Balance Deviation   0.00    0.00    0.00   -0.00\n",
      "===================================================================================================\n",
      "\n",
      "\n",
      "Period             :  2003-01-01  until  2003-12-31 \n",
      "Depth soil profile :  200.00 cm\n",
      "=================================================+=================================================\n",
      "INPUT                                            | OUTPUT\n",
      "                   PLANT    SNOW    POND    SOIL |                   PLANT    SNOW    POND    SOIL\n",
      "=================================================+=================================================\n",
      "Initially Present           0.00    0.00   76.02 | Finally present            0.00    0.00   73.85\n",
      "Gross Rainfall     71.82                         |\n",
      "Nett Rainfall               0.00   71.49         | Nett Rainfall     71.49\n",
      "Gross Irrigation    0.00                         |\n",
      "Nett Irrigation                     0.00         | Nett Irrigation    0.00\n",
      "                                                 | Interception       0.33\n",
      "Snowfall                    0.00                 |\n",
      "Snowmelt                            0.00         | Snowmelt                   0.00\n",
      "                                                 | Sublimation                0.00\n",
      "SSDI                                        0.00 | Plant Transpiration                        0.44\n",
      "                                                 | Soil Evaporation                   3.94\n",
      "Runon                               0.00         | Runoff                             0.00\n",
      "Inundation                          0.00         |\n",
      "Infiltr. Soil Surf.                        70.69 | Infiltr. Soil Surf.               70.69\n",
      "Exfiltr. Soil Surf.                 3.14         | Exfiltr. Soil Surf.                        3.14\n",
      "Infiltr. subsurf.                                | Drainage\n",
      "- system 1                                  0.00 | - system 1                                69.28\n",
      "Upward seepage                              0.00 | Downward seepage                           0.00\n",
      "=================================================+=================================================\n",
      "Sum                71.82    0.00   74.63  146.71 | Sum               71.82    0.00   74.63  146.71\n",
      "=================================================+=================================================\n",
      "Storage Change              0.00    0.00   -2.17\n",
      "Balance Deviation   0.00    0.00    0.00    0.00\n",
      "===================================================================================================\n",
      "\n",
      "\n",
      "Period             :  2004-01-01  until  2004-12-31 \n",
      "Depth soil profile :  200.00 cm\n",
      "=================================================+=================================================\n",
      "INPUT                                            | OUTPUT\n",
      "                   PLANT    SNOW    POND    SOIL |                   PLANT    SNOW    POND    SOIL\n",
      "=================================================+=================================================\n",
      "Initially Present           0.00    0.00   73.85 | Finally present            0.00    0.00   73.23\n",
      "Gross Rainfall     80.44                         |\n",
      "Nett Rainfall               0.00   78.76         | Nett Rainfall     78.76\n",
      "Gross Irrigation    0.00                         |\n",
      "Nett Irrigation                     0.00         | Nett Irrigation    0.00\n",
      "                                                 | Interception       1.68\n",
      "Snowfall                    0.00                 |\n",
      "Snowmelt                            0.00         | Snowmelt                   0.00\n",
      "                                                 | Sublimation                0.00\n",
      "SSDI                                        0.00 | Plant Transpiration                        0.52\n",
      "                                                 | Soil Evaporation                   3.02\n",
      "Runon                               0.00         | Runoff                             0.00\n",
      "Inundation                          0.00         |\n",
      "Infiltr. Soil Surf.                        77.86 | Infiltr. Soil Surf.               77.86\n",
      "Exfiltr. Soil Surf.                 2.12         | Exfiltr. Soil Surf.                        2.12\n",
      "Infiltr. subsurf.                                | Drainage\n",
      "- system 1                                  0.00 | - system 1                                75.83\n",
      "Upward seepage                              0.00 | Downward seepage                           0.00\n",
      "=================================================+=================================================\n",
      "Sum                80.44    0.00   80.88  151.71 | Sum               80.44    0.00   80.88  151.71\n",
      "=================================================+=================================================\n",
      "Storage Change              0.00    0.00   -0.62\n",
      "Balance Deviation   0.00    0.00    0.00    0.00\n",
      "===================================================================================================\n",
      "\n",
      "\n"
     ]
    }
   ],
   "source": [
    "print(result.summary)"
   ]
  },
  {
   "cell_type": "code",
   "execution_count": 17,
   "metadata": {},
   "outputs": [
    {
     "data": {
      "text/html": [
       "<div>\n",
       "<style scoped>\n",
       "    .dataframe tbody tr th:only-of-type {\n",
       "        vertical-align: middle;\n",
       "    }\n",
       "\n",
       "    .dataframe tbody tr th {\n",
       "        vertical-align: top;\n",
       "    }\n",
       "\n",
       "    .dataframe thead th {\n",
       "        text-align: right;\n",
       "    }\n",
       "</style>\n",
       "<table border=\"1\" class=\"dataframe\">\n",
       "  <thead>\n",
       "    <tr style=\"text-align: right;\">\n",
       "      <th></th>\n",
       "      <th>RAIN</th>\n",
       "      <th>SNOW</th>\n",
       "      <th>IRRIG</th>\n",
       "      <th>INTERC</th>\n",
       "      <th>RUNON</th>\n",
       "      <th>RUNOFF</th>\n",
       "      <th>EPOT</th>\n",
       "      <th>EACT</th>\n",
       "      <th>SUBLIM</th>\n",
       "      <th>DRAINAGE</th>\n",
       "      <th>QBOTTOM</th>\n",
       "      <th>TPOT</th>\n",
       "      <th>TACT</th>\n",
       "      <th>DSTOR</th>\n",
       "      <th>BALDEV</th>\n",
       "      <th>VOLACT</th>\n",
       "      <th>QSSDI</th>\n",
       "    </tr>\n",
       "    <tr>\n",
       "      <th>DATETIME</th>\n",
       "      <th></th>\n",
       "      <th></th>\n",
       "      <th></th>\n",
       "      <th></th>\n",
       "      <th></th>\n",
       "      <th></th>\n",
       "      <th></th>\n",
       "      <th></th>\n",
       "      <th></th>\n",
       "      <th></th>\n",
       "      <th></th>\n",
       "      <th></th>\n",
       "      <th></th>\n",
       "      <th></th>\n",
       "      <th></th>\n",
       "      <th></th>\n",
       "      <th></th>\n",
       "    </tr>\n",
       "  </thead>\n",
       "  <tbody>\n",
       "    <tr>\n",
       "      <th>2002-12-31</th>\n",
       "      <td>84.03</td>\n",
       "      <td>0.0</td>\n",
       "      <td>0.5</td>\n",
       "      <td>3.74188</td>\n",
       "      <td>0.0</td>\n",
       "      <td>0.0</td>\n",
       "      <td>1.83025</td>\n",
       "      <td>1.82357</td>\n",
       "      <td>0.0</td>\n",
       "      <td>73.79126</td>\n",
       "      <td>0.0</td>\n",
       "      <td>1.06056</td>\n",
       "      <td>0.74528</td>\n",
       "      <td>4.42799</td>\n",
       "      <td>-0.000003</td>\n",
       "      <td>881.50377</td>\n",
       "      <td>0.0</td>\n",
       "    </tr>\n",
       "    <tr>\n",
       "      <th>2003-12-31</th>\n",
       "      <td>71.82</td>\n",
       "      <td>0.0</td>\n",
       "      <td>0.0</td>\n",
       "      <td>0.32510</td>\n",
       "      <td>0.0</td>\n",
       "      <td>0.0</td>\n",
       "      <td>3.94121</td>\n",
       "      <td>3.94121</td>\n",
       "      <td>0.0</td>\n",
       "      <td>69.28014</td>\n",
       "      <td>0.0</td>\n",
       "      <td>0.44663</td>\n",
       "      <td>0.44360</td>\n",
       "      <td>-2.17002</td>\n",
       "      <td>-0.000008</td>\n",
       "      <td>872.53666</td>\n",
       "      <td>0.0</td>\n",
       "    </tr>\n",
       "    <tr>\n",
       "      <th>2004-12-31</th>\n",
       "      <td>80.44</td>\n",
       "      <td>0.0</td>\n",
       "      <td>0.0</td>\n",
       "      <td>1.67894</td>\n",
       "      <td>0.0</td>\n",
       "      <td>0.0</td>\n",
       "      <td>3.02392</td>\n",
       "      <td>3.02288</td>\n",
       "      <td>0.0</td>\n",
       "      <td>75.83483</td>\n",
       "      <td>0.0</td>\n",
       "      <td>0.52410</td>\n",
       "      <td>0.52410</td>\n",
       "      <td>-0.62072</td>\n",
       "      <td>-0.000003</td>\n",
       "      <td>876.00643</td>\n",
       "      <td>0.0</td>\n",
       "    </tr>\n",
       "  </tbody>\n",
       "</table>\n",
       "</div>"
      ],
      "text/plain": [
       "             RAIN  SNOW  IRRIG   INTERC  RUNON  RUNOFF     EPOT     EACT  \\\n",
       "DATETIME                                                                   \n",
       "2002-12-31  84.03   0.0    0.5  3.74188    0.0     0.0  1.83025  1.82357   \n",
       "2003-12-31  71.82   0.0    0.0  0.32510    0.0     0.0  3.94121  3.94121   \n",
       "2004-12-31  80.44   0.0    0.0  1.67894    0.0     0.0  3.02392  3.02288   \n",
       "\n",
       "            SUBLIM  DRAINAGE  QBOTTOM     TPOT     TACT    DSTOR    BALDEV  \\\n",
       "DATETIME                                                                     \n",
       "2002-12-31     0.0  73.79126      0.0  1.06056  0.74528  4.42799 -0.000003   \n",
       "2003-12-31     0.0  69.28014      0.0  0.44663  0.44360 -2.17002 -0.000008   \n",
       "2004-12-31     0.0  75.83483      0.0  0.52410  0.52410 -0.62072 -0.000003   \n",
       "\n",
       "               VOLACT  QSSDI  \n",
       "DATETIME                      \n",
       "2002-12-31  881.50377    0.0  \n",
       "2003-12-31  872.53666    0.0  \n",
       "2004-12-31  876.00643    0.0  "
      ]
     },
     "execution_count": 17,
     "metadata": {},
     "output_type": "execute_result"
    }
   ],
   "source": [
    "result.output.resample('Y').agg('sum')"
   ]
  },
  {
   "cell_type": "code",
   "execution_count": 18,
   "metadata": {},
   "outputs": [
    {
     "ename": "AttributeError",
     "evalue": "'DataFrame' object has no attribute 'GWL'",
     "output_type": "error",
     "traceback": [
      "\u001b[0;31m---------------------------------------------------------------------------\u001b[0m",
      "\u001b[0;31mAttributeError\u001b[0m                            Traceback (most recent call last)",
      "\u001b[0;32m/tmp/ipykernel_26360/2165459317.py\u001b[0m in \u001b[0;36m?\u001b[0;34m()\u001b[0m\n\u001b[1;32m      1\u001b[0m \u001b[0;32mfrom\u001b[0m \u001b[0mpyswap\u001b[0m\u001b[0;34m.\u001b[0m\u001b[0mcore\u001b[0m\u001b[0;34m.\u001b[0m\u001b[0mplot\u001b[0m\u001b[0;34m.\u001b[0m\u001b[0mgwl\u001b[0m \u001b[0;32mimport\u001b[0m \u001b[0mplot_gwl\u001b[0m\u001b[0;34m\u001b[0m\u001b[0;34m\u001b[0m\u001b[0m\n\u001b[1;32m      2\u001b[0m \u001b[0;34m\u001b[0m\u001b[0m\n\u001b[0;32m----> 3\u001b[0;31m \u001b[0mplot_gwl\u001b[0m\u001b[0;34m(\u001b[0m\u001b[0mresult\u001b[0m\u001b[0;34m.\u001b[0m\u001b[0moutput\u001b[0m\u001b[0;34m.\u001b[0m\u001b[0mGWL\u001b[0m\u001b[0;34m,\u001b[0m \u001b[0mresult\u001b[0m\u001b[0;34m.\u001b[0m\u001b[0moutput\u001b[0m\u001b[0;34m.\u001b[0m\u001b[0mGWL\u001b[0m\u001b[0;34m)\u001b[0m\u001b[0;34m\u001b[0m\u001b[0;34m\u001b[0m\u001b[0m\n\u001b[0m",
      "\u001b[0;32m~/miniconda3/envs/pyswap/lib/python3.11/site-packages/pandas/core/generic.py\u001b[0m in \u001b[0;36m?\u001b[0;34m(self, name)\u001b[0m\n\u001b[1;32m   6200\u001b[0m             \u001b[0;32mand\u001b[0m \u001b[0mname\u001b[0m \u001b[0;32mnot\u001b[0m \u001b[0;32min\u001b[0m \u001b[0mself\u001b[0m\u001b[0;34m.\u001b[0m\u001b[0m_accessors\u001b[0m\u001b[0;34m\u001b[0m\u001b[0;34m\u001b[0m\u001b[0m\n\u001b[1;32m   6201\u001b[0m             \u001b[0;32mand\u001b[0m \u001b[0mself\u001b[0m\u001b[0;34m.\u001b[0m\u001b[0m_info_axis\u001b[0m\u001b[0;34m.\u001b[0m\u001b[0m_can_hold_identifiers_and_holds_name\u001b[0m\u001b[0;34m(\u001b[0m\u001b[0mname\u001b[0m\u001b[0;34m)\u001b[0m\u001b[0;34m\u001b[0m\u001b[0;34m\u001b[0m\u001b[0m\n\u001b[1;32m   6202\u001b[0m         ):\n\u001b[1;32m   6203\u001b[0m             \u001b[0;32mreturn\u001b[0m \u001b[0mself\u001b[0m\u001b[0;34m[\u001b[0m\u001b[0mname\u001b[0m\u001b[0;34m]\u001b[0m\u001b[0;34m\u001b[0m\u001b[0;34m\u001b[0m\u001b[0m\n\u001b[0;32m-> 6204\u001b[0;31m         \u001b[0;32mreturn\u001b[0m \u001b[0mobject\u001b[0m\u001b[0;34m.\u001b[0m\u001b[0m__getattribute__\u001b[0m\u001b[0;34m(\u001b[0m\u001b[0mself\u001b[0m\u001b[0;34m,\u001b[0m \u001b[0mname\u001b[0m\u001b[0;34m)\u001b[0m\u001b[0;34m\u001b[0m\u001b[0;34m\u001b[0m\u001b[0m\n\u001b[0m",
      "\u001b[0;31mAttributeError\u001b[0m: 'DataFrame' object has no attribute 'GWL'"
     ]
    }
   ],
   "source": [
    "from pyswap.core.plot.gwl import plot_gwl\n",
    "\n",
    "plot_gwl(result.output.GWL, result.output.GWL)"
   ]
  },
  {
   "cell_type": "code",
   "execution_count": null,
   "metadata": {},
   "outputs": [
    {
     "name": "stderr",
     "output_type": "stream",
     "text": [
      "/home/zawadzkim/projects/pySWAP/pyswap/core/plot/watercontent.py:17: SettingWithCopyWarning: \n",
      "A value is trying to be set on a copy of a slice from a DataFrame.\n",
      "Try using .loc[row_indexer,col_indexer] = value instead\n",
      "\n",
      "See the caveats in the documentation: https://pandas.pydata.org/pandas-docs/stable/user_guide/indexing.html#returning-a-view-versus-a-copy\n",
      "  df_wcont['date'] = pd.to_datetime(df_wcont['date'])\n",
      "/home/zawadzkim/projects/pySWAP/pyswap/core/plot/watercontent.py:18: SettingWithCopyWarning: \n",
      "A value is trying to be set on a copy of a slice from a DataFrame.\n",
      "Try using .loc[row_indexer,col_indexer] = value instead\n",
      "\n",
      "See the caveats in the documentation: https://pandas.pydata.org/pandas-docs/stable/user_guide/indexing.html#returning-a-view-versus-a-copy\n",
      "  df_wcont['depth'] = df_wcont['depth'].astype(float)\n",
      "/home/zawadzkim/projects/pySWAP/pyswap/core/plot/watercontent.py:19: SettingWithCopyWarning: \n",
      "A value is trying to be set on a copy of a slice from a DataFrame.\n",
      "Try using .loc[row_indexer,col_indexer] = value instead\n",
      "\n",
      "See the caveats in the documentation: https://pandas.pydata.org/pandas-docs/stable/user_guide/indexing.html#returning-a-view-versus-a-copy\n",
      "  df_wcont['wcontent'] = df_wcont['wcontent'].astype(float)\n"
     ]
    },
    {
     "data": {
      "image/png": "[encoded data removed]",
      "text/plain": [
       "<Figure size 1200x800 with 2 Axes>"
      ]
     },
     "metadata": {},
     "output_type": "display_data"
    }
   ],
   "source": [
    "from pyswap.core.plot.watercontent import plot_wcontent\n",
    "\n",
    "plot_wcontent(result.vap)"
   ]
  },
  {
   "cell_type": "code",
   "execution_count": null,
   "metadata": {},
   "outputs": [
    {
     "data": {
      "image/png": "[encoded data removed]",
      "text/plain": [
       "<Figure size 1000x300 with 1 Axes>"
      ]
     },
     "metadata": {},
     "output_type": "display_data"
    }
   ],
   "source": [
    "from pyswap.core.plot.evapotranspiration import plot_evapotranspiration\n",
    "\n",
    "plot_evapotranspiration(result.output.EPOT, result.output.EACT)\n"
   ]
  },
  {
   "cell_type": "code",
   "execution_count": null,
   "metadata": {},
   "outputs": [
    {
     "ename": "TypeError",
     "evalue": "argument of type 'method' is not iterable",
     "output_type": "error",
     "traceback": [
      "\u001b[0;31m---------------------------------------------------------------------------\u001b[0m",
      "\u001b[0;31mTypeError\u001b[0m                                 Traceback (most recent call last)",
      "Cell \u001b[0;32mIn[18], line 3\u001b[0m\n\u001b[1;32m      1\u001b[0m \u001b[38;5;28;01mimport\u001b[39;00m \u001b[38;5;21;01mpandas\u001b[39;00m \u001b[38;5;28;01mas\u001b[39;00m \u001b[38;5;21;01mpd\u001b[39;00m\n\u001b[0;32m----> 3\u001b[0m df \u001b[38;5;241m=\u001b[39m \u001b[43mpd\u001b[49m\u001b[38;5;241;43m.\u001b[39;49m\u001b[43mread_csv\u001b[49m\u001b[43m(\u001b[49m\u001b[43mresult\u001b[49m\u001b[38;5;241;43m.\u001b[39;49m\u001b[43mvap\u001b[49m\u001b[43m,\u001b[49m\u001b[43m \u001b[49m\u001b[43mskiprows\u001b[49m\u001b[38;5;241;43m=\u001b[39;49m\u001b[38;5;241;43m13\u001b[39;49m\u001b[43m,\u001b[49m\u001b[43m \u001b[49m\u001b[43mdelimiter\u001b[49m\u001b[38;5;241;43m=\u001b[39;49m\u001b[38;5;124;43m'\u001b[39;49m\u001b[38;5;124;43m,\u001b[39;49m\u001b[38;5;124;43m'\u001b[39;49m\u001b[43m,\u001b[49m\u001b[43m \u001b[49m\n\u001b[1;32m      4\u001b[0m \u001b[43m                 \u001b[49m\u001b[43mnames\u001b[49m\u001b[38;5;241;43m=\u001b[39;49m\u001b[43m[\u001b[49m\u001b[38;5;124;43m'\u001b[39;49m\u001b[38;5;124;43mdate\u001b[39;49m\u001b[38;5;124;43m'\u001b[39;49m\u001b[43m,\u001b[49m\u001b[43m \u001b[49m\u001b[38;5;124;43m'\u001b[39;49m\u001b[38;5;124;43mdepth\u001b[39;49m\u001b[38;5;124;43m'\u001b[39;49m\u001b[43m,\u001b[49m\u001b[43m \u001b[49m\u001b[38;5;124;43m'\u001b[39;49m\u001b[38;5;124;43mwcontent\u001b[39;49m\u001b[38;5;124;43m'\u001b[39;49m\u001b[43m,\u001b[49m\u001b[43m \u001b[49m\u001b[38;5;124;43m'\u001b[39;49m\u001b[38;5;124;43mphead\u001b[39;49m\u001b[38;5;124;43m'\u001b[39;49m\u001b[43m,\u001b[49m\u001b[43m \u001b[49m\u001b[38;5;124;43m'\u001b[39;49m\u001b[38;5;124;43mhconduc\u001b[39;49m\u001b[38;5;124;43m'\u001b[39;49m\u001b[43m,\u001b[49m\u001b[43m \u001b[49m\u001b[38;5;124;43m'\u001b[39;49m\u001b[38;5;124;43mdrainage\u001b[39;49m\u001b[38;5;124;43m'\u001b[39;49m\u001b[43m,\u001b[49m\u001b[43m \u001b[49m\u001b[38;5;124;43m'\u001b[39;49m\u001b[38;5;124;43mrootext\u001b[39;49m\u001b[38;5;124;43m'\u001b[39;49m\u001b[43m,\u001b[49m\u001b[43m \u001b[49m\n\u001b[1;32m      5\u001b[0m \u001b[43m                        \u001b[49m\u001b[38;5;124;43m'\u001b[39;49m\u001b[38;5;124;43mwaterflux\u001b[39;49m\u001b[38;5;124;43m'\u001b[39;49m\u001b[43m,\u001b[49m\u001b[43m \u001b[49m\u001b[38;5;124;43m'\u001b[39;49m\u001b[38;5;124;43mtemp\u001b[39;49m\u001b[38;5;124;43m'\u001b[39;49m\u001b[43m,\u001b[49m\u001b[43m \u001b[49m\u001b[38;5;124;43m'\u001b[39;49m\u001b[38;5;124;43msolute1\u001b[39;49m\u001b[38;5;124;43m'\u001b[39;49m\u001b[43m,\u001b[49m\u001b[43m \u001b[49m\u001b[38;5;124;43m'\u001b[39;49m\u001b[38;5;124;43msolute2\u001b[39;49m\u001b[38;5;124;43m'\u001b[39;49m\u001b[43m,\u001b[49m\u001b[43m \u001b[49m\u001b[38;5;124;43m'\u001b[39;49m\u001b[38;5;124;43msoluteflux\u001b[39;49m\u001b[38;5;124;43m'\u001b[39;49m\u001b[43m,\u001b[49m\u001b[43m \u001b[49m\u001b[38;5;124;43m'\u001b[39;49m\u001b[38;5;124;43mtop\u001b[39;49m\u001b[38;5;124;43m'\u001b[39;49m\u001b[43m,\u001b[49m\u001b[43m \u001b[49m\u001b[38;5;124;43m'\u001b[39;49m\u001b[38;5;124;43mbottom\u001b[39;49m\u001b[38;5;124;43m'\u001b[39;49m\u001b[43m,\u001b[49m\u001b[43m \u001b[49m\u001b[38;5;124;43m'\u001b[39;49m\u001b[38;5;124;43mday\u001b[39;49m\u001b[38;5;124;43m'\u001b[39;49m\u001b[43m,\u001b[49m\u001b[43m \u001b[49m\u001b[38;5;124;43m'\u001b[39;49m\u001b[38;5;124;43mdcum\u001b[39;49m\u001b[38;5;124;43m'\u001b[39;49m\u001b[43m]\u001b[49m\u001b[43m)\u001b[49m\n",
      "File \u001b[0;32m~/miniconda3/envs/pyswap/lib/python3.11/site-packages/pandas/io/parsers/readers.py:948\u001b[0m, in \u001b[0;36mread_csv\u001b[0;34m(filepath_or_buffer, sep, delimiter, header, names, index_col, usecols, dtype, engine, converters, true_values, false_values, skipinitialspace, skiprows, skipfooter, nrows, na_values, keep_default_na, na_filter, verbose, skip_blank_lines, parse_dates, infer_datetime_format, keep_date_col, date_parser, date_format, dayfirst, cache_dates, iterator, chunksize, compression, thousands, decimal, lineterminator, quotechar, quoting, doublequote, escapechar, comment, encoding, encoding_errors, dialect, on_bad_lines, delim_whitespace, low_memory, memory_map, float_precision, storage_options, dtype_backend)\u001b[0m\n\u001b[1;32m    935\u001b[0m kwds_defaults \u001b[38;5;241m=\u001b[39m _refine_defaults_read(\n\u001b[1;32m    936\u001b[0m     dialect,\n\u001b[1;32m    937\u001b[0m     delimiter,\n\u001b[0;32m   (...)\u001b[0m\n\u001b[1;32m    944\u001b[0m     dtype_backend\u001b[38;5;241m=\u001b[39mdtype_backend,\n\u001b[1;32m    945\u001b[0m )\n\u001b[1;32m    946\u001b[0m kwds\u001b[38;5;241m.\u001b[39mupdate(kwds_defaults)\n\u001b[0;32m--> 948\u001b[0m \u001b[38;5;28;01mreturn\u001b[39;00m \u001b[43m_read\u001b[49m\u001b[43m(\u001b[49m\u001b[43mfilepath_or_buffer\u001b[49m\u001b[43m,\u001b[49m\u001b[43m \u001b[49m\u001b[43mkwds\u001b[49m\u001b[43m)\u001b[49m\n",
      "File \u001b[0;32m~/miniconda3/envs/pyswap/lib/python3.11/site-packages/pandas/io/parsers/readers.py:611\u001b[0m, in \u001b[0;36m_read\u001b[0;34m(filepath_or_buffer, kwds)\u001b[0m\n\u001b[1;32m    608\u001b[0m _validate_names(kwds\u001b[38;5;241m.\u001b[39mget(\u001b[38;5;124m\"\u001b[39m\u001b[38;5;124mnames\u001b[39m\u001b[38;5;124m\"\u001b[39m, \u001b[38;5;28;01mNone\u001b[39;00m))\n\u001b[1;32m    610\u001b[0m \u001b[38;5;66;03m# Create the parser.\u001b[39;00m\n\u001b[0;32m--> 611\u001b[0m parser \u001b[38;5;241m=\u001b[39m \u001b[43mTextFileReader\u001b[49m\u001b[43m(\u001b[49m\u001b[43mfilepath_or_buffer\u001b[49m\u001b[43m,\u001b[49m\u001b[43m \u001b[49m\u001b[38;5;241;43m*\u001b[39;49m\u001b[38;5;241;43m*\u001b[39;49m\u001b[43mkwds\u001b[49m\u001b[43m)\u001b[49m\n\u001b[1;32m    613\u001b[0m \u001b[38;5;28;01mif\u001b[39;00m chunksize \u001b[38;5;129;01mor\u001b[39;00m iterator:\n\u001b[1;32m    614\u001b[0m     \u001b[38;5;28;01mreturn\u001b[39;00m parser\n",
      "File \u001b[0;32m~/miniconda3/envs/pyswap/lib/python3.11/site-packages/pandas/io/parsers/readers.py:1448\u001b[0m, in \u001b[0;36mTextFileReader.__init__\u001b[0;34m(self, f, engine, **kwds)\u001b[0m\n\u001b[1;32m   1445\u001b[0m     \u001b[38;5;28mself\u001b[39m\u001b[38;5;241m.\u001b[39moptions[\u001b[38;5;124m\"\u001b[39m\u001b[38;5;124mhas_index_names\u001b[39m\u001b[38;5;124m\"\u001b[39m] \u001b[38;5;241m=\u001b[39m kwds[\u001b[38;5;124m\"\u001b[39m\u001b[38;5;124mhas_index_names\u001b[39m\u001b[38;5;124m\"\u001b[39m]\n\u001b[1;32m   1447\u001b[0m \u001b[38;5;28mself\u001b[39m\u001b[38;5;241m.\u001b[39mhandles: IOHandles \u001b[38;5;241m|\u001b[39m \u001b[38;5;28;01mNone\u001b[39;00m \u001b[38;5;241m=\u001b[39m \u001b[38;5;28;01mNone\u001b[39;00m\n\u001b[0;32m-> 1448\u001b[0m \u001b[38;5;28mself\u001b[39m\u001b[38;5;241m.\u001b[39m_engine \u001b[38;5;241m=\u001b[39m \u001b[38;5;28;43mself\u001b[39;49m\u001b[38;5;241;43m.\u001b[39;49m\u001b[43m_make_engine\u001b[49m\u001b[43m(\u001b[49m\u001b[43mf\u001b[49m\u001b[43m,\u001b[49m\u001b[43m \u001b[49m\u001b[38;5;28;43mself\u001b[39;49m\u001b[38;5;241;43m.\u001b[39;49m\u001b[43mengine\u001b[49m\u001b[43m)\u001b[49m\n",
      "File \u001b[0;32m~/miniconda3/envs/pyswap/lib/python3.11/site-packages/pandas/io/parsers/readers.py:1705\u001b[0m, in \u001b[0;36mTextFileReader._make_engine\u001b[0;34m(self, f, engine)\u001b[0m\n\u001b[1;32m   1703\u001b[0m     \u001b[38;5;28;01mif\u001b[39;00m \u001b[38;5;124m\"\u001b[39m\u001b[38;5;124mb\u001b[39m\u001b[38;5;124m\"\u001b[39m \u001b[38;5;129;01mnot\u001b[39;00m \u001b[38;5;129;01min\u001b[39;00m mode:\n\u001b[1;32m   1704\u001b[0m         mode \u001b[38;5;241m+\u001b[39m\u001b[38;5;241m=\u001b[39m \u001b[38;5;124m\"\u001b[39m\u001b[38;5;124mb\u001b[39m\u001b[38;5;124m\"\u001b[39m\n\u001b[0;32m-> 1705\u001b[0m \u001b[38;5;28mself\u001b[39m\u001b[38;5;241m.\u001b[39mhandles \u001b[38;5;241m=\u001b[39m \u001b[43mget_handle\u001b[49m\u001b[43m(\u001b[49m\n\u001b[1;32m   1706\u001b[0m \u001b[43m    \u001b[49m\u001b[43mf\u001b[49m\u001b[43m,\u001b[49m\n\u001b[1;32m   1707\u001b[0m \u001b[43m    \u001b[49m\u001b[43mmode\u001b[49m\u001b[43m,\u001b[49m\n\u001b[1;32m   1708\u001b[0m \u001b[43m    \u001b[49m\u001b[43mencoding\u001b[49m\u001b[38;5;241;43m=\u001b[39;49m\u001b[38;5;28;43mself\u001b[39;49m\u001b[38;5;241;43m.\u001b[39;49m\u001b[43moptions\u001b[49m\u001b[38;5;241;43m.\u001b[39;49m\u001b[43mget\u001b[49m\u001b[43m(\u001b[49m\u001b[38;5;124;43m\"\u001b[39;49m\u001b[38;5;124;43mencoding\u001b[39;49m\u001b[38;5;124;43m\"\u001b[39;49m\u001b[43m,\u001b[49m\u001b[43m \u001b[49m\u001b[38;5;28;43;01mNone\u001b[39;49;00m\u001b[43m)\u001b[49m\u001b[43m,\u001b[49m\n\u001b[1;32m   1709\u001b[0m \u001b[43m    \u001b[49m\u001b[43mcompression\u001b[49m\u001b[38;5;241;43m=\u001b[39;49m\u001b[38;5;28;43mself\u001b[39;49m\u001b[38;5;241;43m.\u001b[39;49m\u001b[43moptions\u001b[49m\u001b[38;5;241;43m.\u001b[39;49m\u001b[43mget\u001b[49m\u001b[43m(\u001b[49m\u001b[38;5;124;43m\"\u001b[39;49m\u001b[38;5;124;43mcompression\u001b[39;49m\u001b[38;5;124;43m\"\u001b[39;49m\u001b[43m,\u001b[49m\u001b[43m \u001b[49m\u001b[38;5;28;43;01mNone\u001b[39;49;00m\u001b[43m)\u001b[49m\u001b[43m,\u001b[49m\n\u001b[1;32m   1710\u001b[0m \u001b[43m    \u001b[49m\u001b[43mmemory_map\u001b[49m\u001b[38;5;241;43m=\u001b[39;49m\u001b[38;5;28;43mself\u001b[39;49m\u001b[38;5;241;43m.\u001b[39;49m\u001b[43moptions\u001b[49m\u001b[38;5;241;43m.\u001b[39;49m\u001b[43mget\u001b[49m\u001b[43m(\u001b[49m\u001b[38;5;124;43m\"\u001b[39;49m\u001b[38;5;124;43mmemory_map\u001b[39;49m\u001b[38;5;124;43m\"\u001b[39;49m\u001b[43m,\u001b[49m\u001b[43m \u001b[49m\u001b[38;5;28;43;01mFalse\u001b[39;49;00m\u001b[43m)\u001b[49m\u001b[43m,\u001b[49m\n\u001b[1;32m   1711\u001b[0m \u001b[43m    \u001b[49m\u001b[43mis_text\u001b[49m\u001b[38;5;241;43m=\u001b[39;49m\u001b[43mis_text\u001b[49m\u001b[43m,\u001b[49m\n\u001b[1;32m   1712\u001b[0m \u001b[43m    \u001b[49m\u001b[43merrors\u001b[49m\u001b[38;5;241;43m=\u001b[39;49m\u001b[38;5;28;43mself\u001b[39;49m\u001b[38;5;241;43m.\u001b[39;49m\u001b[43moptions\u001b[49m\u001b[38;5;241;43m.\u001b[39;49m\u001b[43mget\u001b[49m\u001b[43m(\u001b[49m\u001b[38;5;124;43m\"\u001b[39;49m\u001b[38;5;124;43mencoding_errors\u001b[39;49m\u001b[38;5;124;43m\"\u001b[39;49m\u001b[43m,\u001b[49m\u001b[43m \u001b[49m\u001b[38;5;124;43m\"\u001b[39;49m\u001b[38;5;124;43mstrict\u001b[39;49m\u001b[38;5;124;43m\"\u001b[39;49m\u001b[43m)\u001b[49m\u001b[43m,\u001b[49m\n\u001b[1;32m   1713\u001b[0m \u001b[43m    \u001b[49m\u001b[43mstorage_options\u001b[49m\u001b[38;5;241;43m=\u001b[39;49m\u001b[38;5;28;43mself\u001b[39;49m\u001b[38;5;241;43m.\u001b[39;49m\u001b[43moptions\u001b[49m\u001b[38;5;241;43m.\u001b[39;49m\u001b[43mget\u001b[49m\u001b[43m(\u001b[49m\u001b[38;5;124;43m\"\u001b[39;49m\u001b[38;5;124;43mstorage_options\u001b[39;49m\u001b[38;5;124;43m\"\u001b[39;49m\u001b[43m,\u001b[49m\u001b[43m \u001b[49m\u001b[38;5;28;43;01mNone\u001b[39;49;00m\u001b[43m)\u001b[49m\u001b[43m,\u001b[49m\n\u001b[1;32m   1714\u001b[0m \u001b[43m\u001b[49m\u001b[43m)\u001b[49m\n\u001b[1;32m   1715\u001b[0m \u001b[38;5;28;01massert\u001b[39;00m \u001b[38;5;28mself\u001b[39m\u001b[38;5;241m.\u001b[39mhandles \u001b[38;5;129;01mis\u001b[39;00m \u001b[38;5;129;01mnot\u001b[39;00m \u001b[38;5;28;01mNone\u001b[39;00m\n\u001b[1;32m   1716\u001b[0m f \u001b[38;5;241m=\u001b[39m \u001b[38;5;28mself\u001b[39m\u001b[38;5;241m.\u001b[39mhandles\u001b[38;5;241m.\u001b[39mhandle\n",
      "File \u001b[0;32m~/miniconda3/envs/pyswap/lib/python3.11/site-packages/pandas/io/common.py:709\u001b[0m, in \u001b[0;36mget_handle\u001b[0;34m(path_or_buf, mode, encoding, compression, memory_map, is_text, errors, storage_options)\u001b[0m\n\u001b[1;32m    706\u001b[0m errors \u001b[38;5;241m=\u001b[39m errors \u001b[38;5;129;01mor\u001b[39;00m \u001b[38;5;124m\"\u001b[39m\u001b[38;5;124mstrict\u001b[39m\u001b[38;5;124m\"\u001b[39m\n\u001b[1;32m    708\u001b[0m \u001b[38;5;66;03m# read_csv does not know whether the buffer is opened in binary/text mode\u001b[39;00m\n\u001b[0;32m--> 709\u001b[0m \u001b[38;5;28;01mif\u001b[39;00m \u001b[43m_is_binary_mode\u001b[49m\u001b[43m(\u001b[49m\u001b[43mpath_or_buf\u001b[49m\u001b[43m,\u001b[49m\u001b[43m \u001b[49m\u001b[43mmode\u001b[49m\u001b[43m)\u001b[49m \u001b[38;5;129;01mand\u001b[39;00m \u001b[38;5;124m\"\u001b[39m\u001b[38;5;124mb\u001b[39m\u001b[38;5;124m\"\u001b[39m \u001b[38;5;129;01mnot\u001b[39;00m \u001b[38;5;129;01min\u001b[39;00m mode:\n\u001b[1;32m    710\u001b[0m     mode \u001b[38;5;241m+\u001b[39m\u001b[38;5;241m=\u001b[39m \u001b[38;5;124m\"\u001b[39m\u001b[38;5;124mb\u001b[39m\u001b[38;5;124m\"\u001b[39m\n\u001b[1;32m    712\u001b[0m \u001b[38;5;66;03m# validate encoding and errors\u001b[39;00m\n",
      "File \u001b[0;32m~/miniconda3/envs/pyswap/lib/python3.11/site-packages/pandas/io/common.py:1171\u001b[0m, in \u001b[0;36m_is_binary_mode\u001b[0;34m(handle, mode)\u001b[0m\n\u001b[1;32m   1168\u001b[0m \u001b[38;5;28;01mif\u001b[39;00m \u001b[38;5;28missubclass\u001b[39m(\u001b[38;5;28mtype\u001b[39m(handle), text_classes):\n\u001b[1;32m   1169\u001b[0m     \u001b[38;5;28;01mreturn\u001b[39;00m \u001b[38;5;28;01mFalse\u001b[39;00m\n\u001b[0;32m-> 1171\u001b[0m \u001b[38;5;28;01mreturn\u001b[39;00m \u001b[38;5;28misinstance\u001b[39m(handle, _get_binary_io_classes()) \u001b[38;5;129;01mor\u001b[39;00m \u001b[38;5;124;43m\"\u001b[39;49m\u001b[38;5;124;43mb\u001b[39;49m\u001b[38;5;124;43m\"\u001b[39;49m\u001b[43m \u001b[49m\u001b[38;5;129;43;01min\u001b[39;49;00m\u001b[43m \u001b[49m\u001b[38;5;28;43mgetattr\u001b[39;49m\u001b[43m(\u001b[49m\n\u001b[1;32m   1172\u001b[0m \u001b[43m    \u001b[49m\u001b[43mhandle\u001b[49m\u001b[43m,\u001b[49m\u001b[43m \u001b[49m\u001b[38;5;124;43m\"\u001b[39;49m\u001b[38;5;124;43mmode\u001b[39;49m\u001b[38;5;124;43m\"\u001b[39;49m\u001b[43m,\u001b[49m\u001b[43m \u001b[49m\u001b[43mmode\u001b[49m\n\u001b[1;32m   1173\u001b[0m \u001b[43m\u001b[49m\u001b[43m)\u001b[49m\n",
      "\u001b[0;31mTypeError\u001b[0m: argument of type 'method' is not iterable"
     ]
    }
   ],
   "source": [
    "import pandas as pd\n",
    "\n",
    "df = pd.read_csv(result.vap, skiprows=13, delimiter=',', \n",
    "                 names=['date', 'depth', 'wcontent', 'phead', 'hconduc', 'drainage', 'rootext', \n",
    "                        'waterflux', 'temp', 'solute1', 'solute2', 'soluteflux', 'top', 'bottom', 'day', 'dcum'])"
   ]
  }
 ],
 "metadata": {
  "kernelspec": {
   "display_name": "pyswap",
   "language": "python",
   "name": "python3"
  },
  "language_info": {
   "codemirror_mode": {
    "name": "ipython",
    "version": 3
   },
   "file_extension": ".py",
   "mimetype": "text/x-python",
   "name": "python",
   "nbconvert_exporter": "python",
   "pygments_lexer": "ipython3",
   "version": "3.11.5"
  }
 },
 "nbformat": 4,
 "nbformat_minor": 2
}
