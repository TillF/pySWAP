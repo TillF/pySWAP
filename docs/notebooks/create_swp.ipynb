{
 "cells": [
  {
   "cell_type": "code",
   "execution_count": 3,
   "metadata": {
    "collapsed": true
   },
   "outputs": [
    {
     "data": {
      "text/plain": [
       "<module 'pyswap' from '/home/zawadzkim/projects/pySWAP/pyswap/__init__.py'>"
      ]
     },
     "execution_count": 3,
     "metadata": {},
     "output_type": "execute_result"
    }
   ],
   "source": [
    "import importlib\n",
    "from pandas import DataFrame\n",
    "importlib.reload(ps)"
   ]
  },
  {
   "cell_type": "markdown",
   "metadata": {
    "collapsed": false
   },
   "source": [
    "#### 0. Metadata"
   ]
  },
  {
   "cell_type": "code",
   "execution_count": 6,
   "metadata": {
    "collapsed": false
   },
   "outputs": [
    {
     "data": {
      "text/plain": [
       "'AUTHOR = John Smith\\nINSTITUTION = University of Somewhere\\nEMAIL = john@somewhere.com\\nPROJECT_NAME = TESTMODEL3\\nSWAP_VER = 4.2\\nCOMMENT = None'"
      ]
     },
     "execution_count": 6,
     "metadata": {},
     "output_type": "execute_result"
    }
   ],
   "source": [
    "from pyswap.core.metadata import Metadata\n",
    "\n",
    "metadata = Metadata(author='John Smith',\n",
    "                       institution='University of Somewhere',\n",
    "                       email='john@somewhere.com',\n",
    "                       project_name='TESTMODEL3',\n",
    "                       swap_ver='4.2')\n",
    "metadata.model_string()"
   ]
  },
  {
   "cell_type": "markdown",
   "metadata": {
    "collapsed": false
   },
   "source": [
    "#### 1. Environment"
   ]
  },
  {
   "cell_type": "code",
   "execution_count": 26,
   "metadata": {
    "collapsed": false
   },
   "outputs": [],
   "source": [
    "ml1.set_environment()"
   ]
  },
  {
   "cell_type": "markdown",
   "metadata": {
    "collapsed": false
   },
   "source": [
    "#### 2. Simulation period"
   ]
  },
  {
   "cell_type": "code",
   "execution_count": 27,
   "metadata": {
    "collapsed": false
   },
   "outputs": [],
   "source": [
    "start = '2002-01-01'\n",
    "end = '2004-12-31'\n",
    "\n",
    "ml1.set_simulation_period(start=start,\n",
    "                          end=end)"
   ]
  },
  {
   "cell_type": "markdown",
   "metadata": {
    "collapsed": false
   },
   "source": [
    "#### 3. Output dates"
   ]
  },
  {
   "cell_type": "code",
   "execution_count": 28,
   "metadata": {
    "collapsed": false
   },
   "outputs": [],
   "source": [
    "# Optional settings from the #1 example:\n",
    "# outdatin = ['2022-01-01', '2022-06-01']\n",
    "# outdat = ['2022-01-01', '2022-06-01']\n",
    "datefix = '21 11'\n",
    "\n",
    "ml1.set_output_dates(nprintday=1,\n",
    "                     swmonth=True,\n",
    "                     swyrvar=False,\n",
    "                     datefix=datefix)"
   ]
  },
  {
   "cell_type": "markdown",
   "metadata": {
    "collapsed": false
   },
   "source": [
    "#### 4. Output files"
   ]
  },
  {
   "cell_type": "code",
   "execution_count": 29,
   "metadata": {
    "collapsed": false
   },
   "outputs": [],
   "source": [
    "# optional CSV settings from #1 example:\n",
    "# inlist_csv_tz = ['wc', 'h', 'conc']\n",
    "# inlist_csv = ['rain', 'irrig', 'interc', 'runoff', 'drainage', 'dstor', 'epot', 'eact', 'tpot', 'tact', 'qbottom', 'gwl']\n",
    "# dzwnew = [10.0, 10.0, 10.0, 20.0, 30.0, 50.0]\n",
    "# critdevmasbal: float = 0.00001\n",
    "# numnodnew: int = 6\n",
    "ml1.set_output_files()"
   ]
  },
  {
   "cell_type": "code",
   "execution_count": 30,
   "metadata": {
    "collapsed": false
   },
   "outputs": [
    {
     "name": "stdout",
     "output_type": "stream",
     "text": [
      "PROJECT              = TESTMODEL3\n",
      "FILENAME             = TESTMODEL3.swp\n",
      "SWAPVER              = 4.2\n",
      "TIMESTAMP            = 2023-06-08 14:14:48\n",
      "AUTHOR               = John Smith\n",
      "INSTITUTION          = University of Somewhere\n",
      "EMAIL                = john@somewhere.com\n",
      "COMMENT              = No comment\n",
      "PATHWORK             = .\\\n",
      "PATHATM              = .\\\n",
      "PATHCROP             = .\\\n",
      "PATHDRAIN            = .\\\n",
      "SWSCRE               = 0\n",
      "SWERROR              = False\n",
      "START                = 2002-01-01\n",
      "END                  = 2004-12-31\n",
      "NPRINTDAY            = 1\n",
      "SWMONTH              = True\n",
      "SWYRVAR              = False\n",
      "DATEFIX              = 21 11\n",
      "OUTFIL               = result\n",
      "SWHEADER             = False\n",
      "SWWBA                = False\n",
      "SWEND                = False\n",
      "SWVAP                = True\n",
      "SWBAL                = False\n",
      "SWBLC                = True\n",
      "SWSBA                = True\n",
      "SWATE                = False\n",
      "SWBMA                = False\n",
      "SWDRF                = False\n",
      "SWSWB                = False\n",
      "SWINI                = False\n",
      "SWINC                = True\n",
      "SWCRP                = False\n",
      "SWSTR                = False\n",
      "SWIRG                = False\n",
      "SWCSV                = False\n",
      "SWCSV_TZ             = False\n",
      "SWAFO                = 0\n",
      "SWAUN                = 0\n",
      "SWDISCRVERT          = False\n"
     ]
    }
   ],
   "source": [
    "ml1.print_section_params('general')"
   ]
  },
  {
   "cell_type": "markdown",
   "metadata": {
    "collapsed": false
   },
   "source": [
    "#### 5. Crop"
   ]
  },
  {
   "cell_type": "code",
   "execution_count": 31,
   "metadata": {
    "collapsed": false
   },
   "outputs": [],
   "source": [
    "rds = 200.0\n",
    "# There is a brute force solution here to encluse the cropname and cropfile in single quotes. It is not elegant, but it works.\n",
    "croprotation = DataFrame({'INITCROP': [1, 1, 1],\n",
    "                          'CROPSTART': ['2002-05-01', '2003-05-10', '2004-01-01'],  # in the originl file it was ['01-may-02']\n",
    "                          'CROPEND': ['2002-10-15', '2003-09-29', '2004-12-31'],\n",
    "                          'CROPNAME': [\"'maize'\", \"'potato'\", \"'grass'\"],\n",
    "                          'CROPFIL': [\"'maizes'\", \"'potatod'\", \"'grassd'\"],\n",
    "                          'CROPTYPE': [1, 2, 3],})\n",
    "\n",
    "\n",
    "\n",
    "# prepare the crop files\n",
    "maize_path = r\"C:\\Users\\zawad\\PycharmProjects\\pySWAP_django\\djangoSWAP\\setup_model\\pySWAP\\pySWAP\\data\\.crp\\maizes.crp\"\n",
    "potato_path = r\"C:\\Users\\zawad\\PycharmProjects\\pySWAP_django\\djangoSWAP\\setup_model\\pySWAP\\pySWAP\\data\\.crp\\potatod.crp\"\n",
    "grass_path = r\"C:\\Users\\zawad\\PycharmProjects\\pySWAP_django\\djangoSWAP\\setup_model\\pySWAP\\pySWAP\\data\\.crp\\grassd.crp\"\n",
    "file_names = ['maizes', 'potatod', 'grassd']\n",
    "\n",
    "crop = crop.Crop(file_paths=[maize_path, potato_path, grass_path],\n",
    "                 file_names=file_names)\n",
    "\n",
    "ml1.set_crop(swcrop=True,\n",
    "             croprotation=croprotation,\n",
    "             rds=rds,\n",
    "             crop=crop)\n",
    "\n",
    "# after defining the crop rotation, SWAP will look for the crop files under the specified PATHCROP"
   ]
  },
  {
   "cell_type": "markdown",
   "metadata": {
    "collapsed": false
   },
   "source": [
    "### 6. Irrigation"
   ]
  },
  {
   "cell_type": "code",
   "execution_count": 32,
   "metadata": {
    "collapsed": false
   },
   "outputs": [],
   "source": [
    "## optional parameters:\n",
    "# irgfil: str = 'testirri'\n",
    "# startirr: str = '30 3'\n",
    "# endirr: str = '31 12'\n",
    "# cirrs: float = 0.0\n",
    "# isuas: int = 1\n",
    "# phFieldCapacity: float = -100.0\n",
    "# tcs: int = 1\n",
    "# phormc: int = 0\n",
    "# cirrthres: float = 8.0\n",
    "# perirrsurp: float = 10.0\n",
    "# irgthreshold: float = 1.0\n",
    "# tcsfix: int = 0\n",
    "# dcrit: float = -30.0\n",
    "# irgdayfix: int = 7\n",
    "\n",
    "irigevents = DataFrame({'IRDATE': ['2002-01-05'],\n",
    "                        'IRDEPTH': [5.0],\n",
    "                        'IRCONC': [1000.0],\n",
    "                        'IRTYPE': [1]})\n",
    "\n",
    "ml1.set_irrigation(swirfix=True,\n",
    "                   schedule=False,\n",
    "                   swirgfil=False,\n",
    "                   irigevents=irigevents)\n"
   ]
  },
  {
   "cell_type": "markdown",
   "metadata": {
    "collapsed": false
   },
   "source": [
    "#### 7. Meteorological data"
   ]
  },
  {
   "cell_type": "code",
   "execution_count": 33,
   "metadata": {
    "collapsed": false
   },
   "outputs": [],
   "source": [
    "## Optional parameters:\n",
    "# rainflux = DataFrame({'TIME': [1.0, 360.0],\n",
    "#                      'RAINFLUX': [20.0, 20.0]})\n",
    "\n",
    "csv_path = r\"C:\\Users\\zawad\\PycharmProjects\\pySWAP_django\\djangoSWAP\\setup_model\\pySWAP\\pySWAP\\data\\daily_basic_weather.csv\"\n",
    "met1 = meteo.Meteo(metadata)  # create a meteo instance with given header\n",
    "\n",
    "met1.load_from_csv(csv_path=csv_path,\n",
    "                   station='238',\n",
    "                   station_lon=52.0,\n",
    "                   station_lat=52.0,\n",
    "                   station_alt=60.5)\n",
    "\n",
    "ml1.set_meteo(swetr=False,\n",
    "              meteo_data=met1,\n",
    "              altw=10.0,\n",
    "              angstroma=0.25,\n",
    "              angstromb=0.5,\n",
    "              swdivide=True,\n",
    "              swmetdetail=False)  # set meteo data and store the csv file in the main model instance\n"
   ]
  },
  {
   "cell_type": "markdown",
   "metadata": {
    "collapsed": false
   },
   "source": [
    "#### 8. initial soil moisture (soil-water section)"
   ]
  },
  {
   "cell_type": "code",
   "execution_count": 34,
   "metadata": {
    "collapsed": false
   },
   "outputs": [],
   "source": [
    "# Optional params\n",
    "# head_soildepth = DataFrame({'ZI': [-0.5, -195.0],\n",
    "#                             'H': [-93.0, 120.0]})\n",
    "# inifil = 'testinifil'\n",
    "\n",
    "ml1.set_init_soil_moisture(swinco=2,\n",
    "                           gwli=75.1)\n"
   ]
  },
  {
   "cell_type": "markdown",
   "metadata": {
    "collapsed": false
   },
   "source": [
    "#### 9. Surface flow"
   ]
  },
  {
   "cell_type": "code",
   "execution_count": 35,
   "metadata": {
    "collapsed": false
   },
   "outputs": [],
   "source": [
    "## Optional paremeters:\n",
    "# swpondmx = 0\n",
    "# pondmx = 0.2\n",
    "# rsro = 0.5\n",
    "# rsroexp = 1.0\n",
    "# swrunon = 0\n",
    "# rufil = 'swap.inc'\n",
    "# mxpondtb = DataFrame({'DATEPMX': ['2002-01-01', '2004-12-31'],\n",
    "#                       'PONDMXTB': [0.2, 0.2]})\n",
    "\n",
    "ml1.set_surface_flow(swpondmx=0,\n",
    "                     swrunon=False,\n",
    "                     rsro=0.5,\n",
    "                     rsroexp=1.0,\n",
    "                     pondmx=0.2,)\n"
   ]
  },
  {
   "cell_type": "markdown",
   "metadata": {
    "collapsed": false
   },
   "source": [
    "#### 10. Soil evaporation (soil-water section)"
   ]
  },
  {
   "cell_type": "code",
   "execution_count": 36,
   "metadata": {
    "collapsed": false
   },
   "outputs": [],
   "source": [
    "# # Optional parameters:\n",
    "# cfbs = 0.5\n",
    "# rsoil = 30.0\n",
    "# cofredbl = 0.35\n",
    "# rsigni = 0.5\n",
    "# cofredbo = 0.35\n",
    "\n",
    "ml1.set_soil_evap(cfevappond=1.25,\n",
    "                  swcfbs=False,\n",
    "                  swredu=1,\n",
    "                  rsoil=30.0,\n",
    "                  rsigni=0.5,\n",
    "                  cofredbl=0.35,)"
   ]
  },
  {
   "cell_type": "markdown",
   "metadata": {
    "collapsed": false
   },
   "source": [
    "#### 11. Soil profile (soil-water section)"
   ]
  },
  {
   "cell_type": "code",
   "execution_count": 37,
   "metadata": {
    "collapsed": false
   },
   "outputs": [],
   "source": [
    "soilprofile = DataFrame({'ISUBLAY': [1, 2, 3, 4],\n",
    "                         'ISOILLAY': [1, 1, 2, 2],\n",
    "                         'HSUBLAY': [10.0, 20.0, 30.0, 140.0],\n",
    "                         'HCOMP': [1.0, 5.0, 5.0, 10.0],\n",
    "                         'NCOMP': [10, 4, 6, 14]})\n",
    "\n",
    "ml1.set_soil_profile(soilprofile=soilprofile)\n"
   ]
  },
  {
   "cell_type": "markdown",
   "metadata": {
    "collapsed": false
   },
   "source": [
    "#### 12. Soil parameters (soil-water section)"
   ]
  },
  {
   "cell_type": "code",
   "execution_count": 38,
   "metadata": {
    "collapsed": false
   },
   "outputs": [],
   "source": [
    "soilhydrfunc = DataFrame({'ORES': [0.01, 0.02],\n",
    "                          'OSAT': [0.42, 0.38],\n",
    "                          'ALFA': [0.0276, 0.0213],\n",
    "                          'NPAR': [1.491, 1.951],\n",
    "                          'KSATFIT': [12.52, 12.68],\n",
    "                          'LEXP': [-1.060, 0.168],\n",
    "                          'ALFAW': [0.0542, 0.0426],\n",
    "                          'H_ENPR': [0.0, 0.0],\n",
    "                          'KSATEXM': [12.52, 12.68],\n",
    "                          'BDENS': [1315.0, 1315.0]})\n",
    "\n",
    "# # Optional parameters:\n",
    "# filenamesophy = 'topsoil_sand_b2.csv' 'subsoil_sand_o2.csv'\n",
    "# tau = 0.2\n",
    "\n",
    "ml1.set_soil_parameters(swsophy=False,\n",
    "                        swhyst=0,\n",
    "                        swmacro=False,\n",
    "                        soilhydrfunc=soilhydrfunc,)\n"
   ]
  },
  {
   "cell_type": "markdown",
   "metadata": {
    "collapsed": false
   },
   "source": [
    "#### 13. Snow and frost (soil-water section)"
   ]
  },
  {
   "cell_type": "code",
   "execution_count": 39,
   "metadata": {
    "collapsed": false
   },
   "outputs": [],
   "source": [
    "# Optional parameters:\n",
    "# snowinco = 22.0\n",
    "# teprrain = 2.0\n",
    "# teprsnow = -2.0\n",
    "# snowcoef = 0.3\n",
    "# tfroststa = 0.0\n",
    "# tfrostend = -1.0\n",
    "\n",
    "ml1.set_snow_frost(swsnow=True,\n",
    "                   swfrost=False,)\n"
   ]
  },
  {
   "cell_type": "code",
   "execution_count": 40,
   "metadata": {
    "collapsed": false
   },
   "outputs": [
    {
     "name": "stdout",
     "output_type": "stream",
     "text": [
      "SWINCO               = 2\n",
      "GWLI                 = 75.1\n",
      "SWPONDMX             = 0\n",
      "SWRUNON              = False\n",
      "PONDMX               = 0.2\n",
      "RSRO                 = 0.5\n",
      "RSROEXP              = 1.0\n",
      "SWCFBS               = False\n",
      "SWREDU               = 1\n",
      "CFEVAPPOND           = 1.25\n",
      "RSOIL                = 30.0\n",
      "COFREDBL             = 0.35\n",
      "RSIGNI               = 0.5\n",
      "SWSOPHY              = False\n",
      "SWHYST               = 0\n",
      "SWMACRO              = False\n",
      "SWSNOW               = True\n",
      "SWFROST              = False\n",
      "   ISUBLAY  ISOILLAY  HSUBLAY  HCOMP  NCOMP\n",
      "0        1         1     10.0    1.0     10\n",
      "1        2         1     20.0    5.0      4\n",
      "2        3         2     30.0    5.0      6\n",
      "3        4         2    140.0   10.0     14\n",
      "   ORES  OSAT    ALFA   NPAR  KSATFIT   LEXP   ALFAW  H_ENPR  KSATEXM   BDENS\n",
      "0  0.01  0.42  0.0276  1.491    12.52 -1.060  0.0542     0.0    12.52  1315.0\n",
      "1  0.02  0.38  0.0213  1.951    12.68  0.168  0.0426     0.0    12.68  1315.0\n"
     ]
    }
   ],
   "source": [
    "ml1.print_section_params('soil_water')"
   ]
  },
  {
   "cell_type": "markdown",
   "metadata": {
    "collapsed": false
   },
   "source": [
    "#### 14. Richards parameters (soil-water section)"
   ]
  },
  {
   "cell_type": "code",
   "execution_count": 41,
   "metadata": {
    "collapsed": false
   },
   "outputs": [],
   "source": [
    "# Optional parameters:\n",
    "ml1.set_richards_params(dtmin=0.000001,\n",
    "                        dtmax=0.04,\n",
    "                        gwlconv=100.0,\n",
    "                        critdevh1cp=0.01,\n",
    "                        critdevh2cp=0.1,\n",
    "                        critdevponddt=0.0001,\n",
    "                        maxit=30,\n",
    "                        maxbacktr=3,\n",
    "                        swkmean=1,\n",
    "                        swkimpl=False,)"
   ]
  },
  {
   "cell_type": "markdown",
   "metadata": {
    "collapsed": false
   },
   "source": [
    "#### 15. Drainage"
   ]
  },
  {
   "cell_type": "code",
   "execution_count": 42,
   "metadata": {
    "collapsed": false
   },
   "outputs": [],
   "source": [
    "# drainage data are now a separate object. For now, it is the entire default .dra file.\n",
    "dra_path = r'../data/'\n",
    "dra = dra.Drainage('swap',\n",
    "                    dra_path,)\n",
    "\n",
    "ml1.set_drainage(swdra=True,\n",
    "                 drainage=dra,)\n"
   ]
  },
  {
   "cell_type": "markdown",
   "metadata": {
    "collapsed": false
   },
   "source": [
    "#### 16. Bottom boundary"
   ]
  },
  {
   "cell_type": "code",
   "execution_count": 43,
   "metadata": {
    "collapsed": false
   },
   "outputs": [],
   "source": [
    "# Optional parameters:\n",
    "# This section contains many conditional parameters and tables. For details, refer to the docs.\n",
    "\n",
    "ml1.set_bottom_boundary(swbbcfile=False,\n",
    "                        swbotb=6)"
   ]
  },
  {
   "cell_type": "markdown",
   "metadata": {
    "collapsed": false
   },
   "source": [
    "#### 17. Heat flow"
   ]
  },
  {
   "cell_type": "code",
   "execution_count": 44,
   "metadata": {
    "collapsed": false
   },
   "outputs": [],
   "source": [
    "# # Optional parameters:\n",
    "# swhea = 1\n",
    "# swcalt = 2\n",
    "# tampli = 10\n",
    "# tmean = 15\n",
    "# timref = 90\n",
    "# ddamp = 50\n",
    "# swtopbhea = 1\n",
    "# tsoilfile = 'swap'\n",
    "# swbotbhea = 1\n",
    "## Optional tables:\n",
    "# soiltextures = DataFrame({'PSAND': [0.8, 0.8],\n",
    "#                        'PSILT': [0.15, 0.15],\n",
    "#                        'PCLAY': [0.05, 0.05],\n",
    "#                        'ORGMAT': [0.1, 0.1]})\n",
    "# initsoil = DataFrame({'ZH': [-10.0, -40.0, -70.0, -95.0],\n",
    "#                        'TSOIL': [15.0, 12.0, 10.0, 9.0]})\n",
    "# bbctsoil = DataFrame({'DATET': ['2002-01-01', '2002-06-30', '2002-12-23'],\n",
    "#                        'TBOT': [-15.0, -20.0, -10.0]})\n",
    "\n",
    "ml1.set_heatflow(swhea=False)"
   ]
  },
  {
   "cell_type": "code",
   "execution_count": 45,
   "metadata": {
    "collapsed": false
   },
   "outputs": [],
   "source": [
    "## Optional parameters:\n",
    "# There are many optional parameters and tables in this section. For details, refer to the docs.\n",
    "\n",
    "ml1.set_solute_settings(swsolu=False)"
   ]
  },
  {
   "cell_type": "code",
   "execution_count": 46,
   "metadata": {
    "collapsed": false
   },
   "outputs": [
    {
     "name": "stdout",
     "output_type": "stream",
     "text": [
      "Model 'TESTMODEL3' was successfully added to the database.\n"
     ]
    }
   ],
   "source": [
    "await ml1.model_to_db()\n"
   ]
  }
 ],
 "metadata": {
  "kernelspec": {
   "display_name": "Python 3",
   "language": "python",
   "name": "python3"
  },
  "language_info": {
   "codemirror_mode": {
    "name": "ipython",
    "version": 3
   },
   "file_extension": ".py",
   "mimetype": "text/x-python",
   "name": "python",
   "nbconvert_exporter": "python",
   "pygments_lexer": "ipython3",
   "version": "3.11.5"
  }
 },
 "nbformat": 4,
 "nbformat_minor": 0
}
