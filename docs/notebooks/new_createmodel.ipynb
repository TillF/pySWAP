{
 "cells": [
  {
   "cell_type": "code",
   "execution_count": 1,
   "metadata": {},
   "outputs": [],
   "source": [
    "import sys\n",
    "from pathlib import Path\n",
    "\n",
    "pyswap_path = Path(\"/home/zawadzkim/projects/pySWAP\")\n",
    "sys.path.append(str(pyswap_path.resolve()))\n"
   ]
  },
  {
   "cell_type": "markdown",
   "metadata": {},
   "source": [
    "## Create a database connection\n",
    "\n",
    "Storing data in the database instead instead of individual files would make it easier to manage multiple models and their versions."
   ]
  },
  {
   "cell_type": "code",
   "execution_count": 2,
   "metadata": {},
   "outputs": [
    {
     "name": "stdout",
     "output_type": "stream",
     "text": [
      "Database exists. Connecting...\n",
      "Table data_swaprun_association does not exist in the database. Creating...\n",
      "Table data exists in the database.\n",
      "Table swapmodel exists in the database.\n"
     ]
    },
    {
     "data": {
      "text/plain": [
       "<pyswap.core.database.connection.DatabaseConnection at 0x7f97b439c290>"
      ]
     },
     "execution_count": 2,
     "metadata": {},
     "output_type": "execute_result"
    }
   ],
   "source": [
    "from pyswap.core.database import connection as con\n",
    "\n",
    "db_path = Path(pyswap_path, \"pyswapdb.sqlite\")\n",
    "con.DatabaseConnection(db_path)\n"
   ]
  },
  {
   "cell_type": "markdown",
   "metadata": {},
   "source": [
    "## Metadata"
   ]
  },
  {
   "cell_type": "markdown",
   "metadata": {},
   "source": [
    "Metadata is an important part of a project. Attached to the model definition provides some basic information about who created the model and how to contact them."
   ]
  },
  {
   "cell_type": "code",
   "execution_count": 4,
   "metadata": {},
   "outputs": [],
   "source": [
    "from pyswap.core.metadata import Metadata\n",
    "\n",
    "meta = Metadata(author=\"John Doe\",\n",
    "                institution=\"University of Somewhere\",\n",
    "                email=\"john.doe@somewhere.com\",\n",
    "                project_name=\"Test\",\n",
    "                swap_ver=\"4.0\")"
   ]
  },
  {
   "cell_type": "markdown",
   "metadata": {},
   "source": [
    "## Simulation settings"
   ]
  },
  {
   "cell_type": "markdown",
   "metadata": {},
   "source": [
    "The first thing to do is to define the simulation settings. The `SimSettings` object will store the information about the environment, files the user wants to output, simulation period, etc. "
   ]
  },
  {
   "cell_type": "code",
   "execution_count": 25,
   "metadata": {},
   "outputs": [],
   "source": [
    "from pyswap.core.simsettings import SimSettings\n",
    "from datetime import date as dt\n",
    "\n",
    "simset = SimSettings(tstart='2018-01-01', \n",
    "                     swyrvar=1,\n",
    "                     tend=dt(2018, 1, 2),\n",
    "                     outdat=[dt(2018, 1, 1), dt(2018, 1, 1)],\n",
    "                     inlist_csv=['rain', 'evap'],\n",
    "                     dznew=[0.13452, 0.2345, 0.333])\n"
   ]
  },
  {
   "cell_type": "markdown",
   "metadata": {},
   "source": [
    "## Meteorology"
   ]
  },
  {
   "cell_type": "markdown",
   "metadata": {},
   "source": [
    "Usually a SWAP model requires some form of meteorological data in the form of .met file. For simplicity, we use a csv file (with .met extension) containing data from multiple years. One of the implemented methods fetches the data from KNMI API."
   ]
  },
  {
   "cell_type": "code",
   "execution_count": 4,
   "metadata": {},
   "outputs": [],
   "source": [
    "from pyswap.atmosphere.meteorology import MeteorologicalData\n",
    "\n",
    "meteo_data = MeteorologicalData(metadata=meta)\n",
    "meteo_data.weather_kmni()"
   ]
  },
  {
   "cell_type": "code",
   "execution_count": 5,
   "metadata": {},
   "outputs": [],
   "source": [
    "from pyswap.atmosphere.meteorology import PenmanMonteith\n",
    "pen_mon = PenmanMonteith(alt=100.0)"
   ]
  },
  {
   "cell_type": "code",
   "execution_count": 6,
   "metadata": {},
   "outputs": [],
   "source": [
    "from pyswap.atmosphere.meteorology import Meteorology, PenmanMonteith\n",
    "from pandas import DataFrame\n",
    "\n",
    "rainflux = DataFrame({'time': [1.0, 360.0], \n",
    "            'rainflux': [20.0, 20.0]})\n",
    "\n",
    "meteo = Meteorology(metfil='377',\n",
    "                    meteo_data=meteo_data,\n",
    "                    lat=43.0,\n",
    "                    swetr=True,\n",
    "                    penman_monteith=pen_mon,\n",
    "                    swdivide=False,\n",
    "                    swetsine=False,\n",
    "                    swrain=0,\n",
    "                    rainflux=rainflux)\n",
    "\n"
   ]
  },
  {
   "cell_type": "markdown",
   "metadata": {},
   "source": [
    "## Crop"
   ]
  },
  {
   "cell_type": "code",
   "execution_count": 7,
   "metadata": {},
   "outputs": [],
   "source": [
    "from pyswap.plant.crop import CropFile\n",
    "\n",
    "crop = CropFile(name='maizes', path='../../data/.crp/maizes.crp')"
   ]
  },
  {
   "cell_type": "code",
   "execution_count": 8,
   "metadata": {},
   "outputs": [],
   "source": [
    "from pyswap.plant.crop import Crop\n",
    "from pandas import DataFrame\n",
    "from datetime import date as dt\n",
    "# Would be nice to have a subclass for managing the crop files\n",
    "\n",
    "croprotation = DataFrame({'cropstart':[dt(2018, 1, 1), dt(2018, 1, 1), dt(2018, 1, 1)],\n",
    "                'cropend':[dt(2018, 1, 1), dt(2018, 1, 1), dt(2018, 1, 1)],\n",
    "                'cropfile':['maizes', 'potatod', 'grassd'],\n",
    "                'croptype':[1, 2, 3]})\n",
    "\n",
    "\n",
    "crop = Crop(swcrop=True,\n",
    "            rds=200.0,\n",
    "            croprotation=croprotation)"
   ]
  },
  {
   "cell_type": "markdown",
   "metadata": {},
   "source": [
    "## Irrigation"
   ]
  },
  {
   "cell_type": "code",
   "execution_count": 1,
   "metadata": {},
   "outputs": [],
   "source": [
    "from pyswap.soilwater.irrigation import Irrigation, FixedIrrigation\n",
    "from pandas import DataFrame\n",
    "\n",
    "fixed_irrigation = FixedIrrigation(swirgfil=False,\n",
    "                                   table_irrigevents=DataFrame({'time':[1.0, 360.0],\n",
    "                                                            'irrigation':[20.0, 20.0]}))\n",
    "                                   \n",
    "\n",
    "# irrigation = Irrigation(schedule=False,\n",
    "#                         swirfix=False)  # is this is set to true, then an error is returned if additional parameters are not given"
   ]
  },
  {
   "cell_type": "markdown",
   "metadata": {},
   "source": []
  },
  {
   "cell_type": "code",
   "execution_count": 2,
   "metadata": {},
   "outputs": [
    {
     "name": "stdout",
     "output_type": "stream",
     "text": [
      "SWIRGFIL = False\n",
      " TIME  IRRIGATION\n",
      "  1.0        20.0\n",
      "360.0        20.0\n"
     ]
    }
   ],
   "source": [
    "from pprint import pprint\n",
    "\n",
    "print(fixed_irrigation.model_string())"
   ]
  },
  {
   "cell_type": "markdown",
   "metadata": {},
   "source": [
    "## Drainage"
   ]
  },
  {
   "cell_type": "code",
   "execution_count": 30,
   "metadata": {},
   "outputs": [
    {
     "ename": "ValidationError",
     "evalue": "1 validation error for LateralDrainage\nswdra\n  Field required [type=missing, input_value={'swlatdrain': 0}, input_type=dict]\n    For further information visit https://errors.pydantic.dev/2.5/v/missing",
     "output_type": "error",
     "traceback": [
      "\u001b[0;31m---------------------------------------------------------------------------\u001b[0m",
      "\u001b[0;31mValidationError\u001b[0m                           Traceback (most recent call last)",
      "Cell \u001b[0;32mIn[30], line 3\u001b[0m\n\u001b[1;32m      1\u001b[0m \u001b[38;5;28;01mfrom\u001b[39;00m \u001b[38;5;21;01mpyswap\u001b[39;00m\u001b[38;5;21;01m.\u001b[39;00m\u001b[38;5;21;01msoilwater\u001b[39;00m\u001b[38;5;21;01m.\u001b[39;00m\u001b[38;5;21;01mdrainage\u001b[39;00m \u001b[38;5;28;01mimport\u001b[39;00m LateralDrainage\n\u001b[0;32m----> 3\u001b[0m latdrain \u001b[38;5;241m=\u001b[39m \u001b[43mLateralDrainage\u001b[49m\u001b[43m(\u001b[49m\u001b[43mswlatdrain\u001b[49m\u001b[38;5;241;43m=\u001b[39;49m\u001b[38;5;241;43m0\u001b[39;49m\u001b[43m)\u001b[49m\n",
      "File \u001b[0;32m~/miniconda3/envs/pyswap/lib/python3.11/site-packages/pydantic/main.py:164\u001b[0m, in \u001b[0;36mBaseModel.__init__\u001b[0;34m(__pydantic_self__, **data)\u001b[0m\n\u001b[1;32m    162\u001b[0m \u001b[38;5;66;03m# `__tracebackhide__` tells pytest and some other tools to omit this function from tracebacks\u001b[39;00m\n\u001b[1;32m    163\u001b[0m __tracebackhide__ \u001b[38;5;241m=\u001b[39m \u001b[38;5;28;01mTrue\u001b[39;00m\n\u001b[0;32m--> 164\u001b[0m \u001b[43m__pydantic_self__\u001b[49m\u001b[38;5;241;43m.\u001b[39;49m\u001b[43m__pydantic_validator__\u001b[49m\u001b[38;5;241;43m.\u001b[39;49m\u001b[43mvalidate_python\u001b[49m\u001b[43m(\u001b[49m\u001b[43mdata\u001b[49m\u001b[43m,\u001b[49m\u001b[43m \u001b[49m\u001b[43mself_instance\u001b[49m\u001b[38;5;241;43m=\u001b[39;49m\u001b[43m__pydantic_self__\u001b[49m\u001b[43m)\u001b[49m\n",
      "\u001b[0;31mValidationError\u001b[0m: 1 validation error for LateralDrainage\nswdra\n  Field required [type=missing, input_value={'swlatdrain': 0}, input_type=dict]\n    For further information visit https://errors.pydantic.dev/2.5/v/missing"
     ]
    }
   ],
   "source": [
    "from pyswap.soilwater.drainage import LateralDrainage\n",
    "\n",
    "latdrain = LateralDrainage(swlatdrain=0)"
   ]
  },
  {
   "cell_type": "markdown",
   "metadata": {},
   "source": [
    "TBD."
   ]
  },
  {
   "cell_type": "markdown",
   "metadata": {},
   "source": [
    "## Soil water"
   ]
  },
  {
   "cell_type": "code",
   "execution_count": 10,
   "metadata": {},
   "outputs": [],
   "source": [
    "from pyswap.soilwater.soilmoisture import SoilMoisture\n",
    "from pyswap.soilwater.surfaceflow import SurfaceFlow\n",
    "from pyswap.soilwater.evaporation import Evaporation\n",
    "\n",
    "\n",
    "soilmoisture = SoilMoisture(swinco=2,\n",
    "                            gwli=-75.0)\n",
    "\n",
    "surfaceflow = SurfaceFlow(swpondmx=False,\n",
    "                          pondmx=0.2,\n",
    "                          swrunon=False)\n",
    "\n",
    "evaporation = Evaporation(swcfbs=False,\n",
    "                          cfevappond=1.25,\n",
    "                          swredu=1,\n",
    "                          cofredbl=0.35,\n",
    "                          rsigni=0.5)\n"
   ]
  },
  {
   "cell_type": "code",
   "execution_count": 11,
   "metadata": {},
   "outputs": [],
   "source": [
    "from pyswap.soilwater.soilprofile import SoilProfile\n",
    "from pandas import DataFrame\n",
    "\n",
    "df_soilprofile = DataFrame({\n",
    "    'ISUBLAY': [1, 2, 3, 4],\n",
    "    'ISOILLAY': [1, 1, 2, 2],\n",
    "    'HSUBLAY': [10.0, 20.0, 30.0, 140.0],\n",
    "    'HCOMP': [1.0, 5.0, 5.0, 10.0],\n",
    "    'NCOMP': [10, 4, 6, 14]\n",
    "})\n",
    "\n",
    "soilprofile = SoilProfile(soilprofile=df_soilprofile,\n",
    "                          swsophy=False,\n",
    "                          swhyst=0,\n",
    "                          swmacro=False)\n",
    "\n"
   ]
  },
  {
   "cell_type": "code",
   "execution_count": 9,
   "metadata": {},
   "outputs": [],
   "source": [
    "from pyswap.soilwater.snow import SnowAndFrost\n",
    "\n",
    "snow = SnowAndFrost(swsnow=False,\n",
    "                    swfrost=False)\n"
   ]
  },
  {
   "cell_type": "code",
   "execution_count": 14,
   "metadata": {},
   "outputs": [],
   "source": [
    "from pyswap.soilwater.richards import RichardsSettings\n",
    "\n",
    "richards = RichardsSettings(swkmean=1,\n",
    "                            swkimpl=False)\n"
   ]
  },
  {
   "cell_type": "code",
   "execution_count": 1,
   "metadata": {},
   "outputs": [
    {
     "ename": "TypeError",
     "evalue": "typing.Annotated[bool | int, PlainSerializer(func=<function <lambda> at 0x7f846c9676a0>, return_type=<class 'int'>, when_used='json')] is not a generic class",
     "output_type": "error",
     "traceback": [
      "\u001b[0;31m---------------------------------------------------------------------------\u001b[0m",
      "\u001b[0;31mTypeError\u001b[0m                                 Traceback (most recent call last)",
      "Cell \u001b[0;32mIn[1], line 1\u001b[0m\n\u001b[0;32m----> 1\u001b[0m \u001b[38;5;28;01mfrom\u001b[39;00m \u001b[38;5;21;01mpyswap\u001b[39;00m\u001b[38;5;21;01m.\u001b[39;00m\u001b[38;5;21;01mcore\u001b[39;00m\u001b[38;5;21;01m.\u001b[39;00m\u001b[38;5;21;01mboundary\u001b[39;00m \u001b[38;5;28;01mimport\u001b[39;00m LateralDrainage, BottomBoundary\n\u001b[1;32m      3\u001b[0m lateral_drainage \u001b[38;5;241m=\u001b[39m LateralDrainage(swdra\u001b[38;5;241m=\u001b[39m\u001b[38;5;241m0\u001b[39m)\n\u001b[1;32m      4\u001b[0m bottom_boundary \u001b[38;5;241m=\u001b[39m BottomBoundary(swbbcfile\u001b[38;5;241m=\u001b[39m\u001b[38;5;28;01mFalse\u001b[39;00m, \n\u001b[1;32m      5\u001b[0m                                  swbotb\u001b[38;5;241m=\u001b[39m\u001b[38;5;241m6\u001b[39m)\n",
      "File \u001b[0;32m~/projects/pySWAP/pyswap/core/boundary.py:8\u001b[0m\n\u001b[1;32m      4\u001b[0m \u001b[38;5;28;01mfrom\u001b[39;00m \u001b[38;5;21;01mpydantic\u001b[39;00m \u001b[38;5;28;01mimport\u001b[39;00m model_validator, Field\n\u001b[1;32m      5\u001b[0m \u001b[38;5;28;01mfrom\u001b[39;00m \u001b[38;5;21;01mpandas\u001b[39;00m \u001b[38;5;28;01mimport\u001b[39;00m DataFrame\n\u001b[0;32m----> 8\u001b[0m \u001b[38;5;28;43;01mclass\u001b[39;49;00m\u001b[43m \u001b[49m\u001b[38;5;21;43;01mLateralDrainage\u001b[39;49;00m\u001b[43m(\u001b[49m\u001b[43mPySWAPBaseModel\u001b[49m\u001b[43m)\u001b[49m\u001b[43m:\u001b[49m\n\u001b[1;32m      9\u001b[0m \u001b[38;5;250;43m    \u001b[39;49m\u001b[38;5;124;43;03m\"\"\"Lateral drainage to surface water.\"\"\"\u001b[39;49;00m\n\u001b[1;32m     11\u001b[0m \u001b[43m    \u001b[49m\u001b[43mswdra\u001b[49m\u001b[43m:\u001b[49m\u001b[43m \u001b[49m\u001b[43mSwitch\u001b[49m\u001b[43m[\u001b[49m\u001b[43mLiteral\u001b[49m\u001b[43m[\u001b[49m\u001b[38;5;241;43m0\u001b[39;49m\u001b[43m,\u001b[49m\u001b[43m \u001b[49m\u001b[38;5;241;43m1\u001b[39;49m\u001b[43m,\u001b[49m\u001b[43m \u001b[49m\u001b[38;5;241;43m2\u001b[39;49m\u001b[43m]\u001b[49m\u001b[43m]\u001b[49m\n",
      "File \u001b[0;32m~/projects/pySWAP/pyswap/core/boundary.py:11\u001b[0m, in \u001b[0;36mLateralDrainage\u001b[0;34m()\u001b[0m\n\u001b[1;32m      8\u001b[0m \u001b[38;5;28;01mclass\u001b[39;00m \u001b[38;5;21;01mLateralDrainage\u001b[39;00m(PySWAPBaseModel):\n\u001b[1;32m      9\u001b[0m \u001b[38;5;250m    \u001b[39m\u001b[38;5;124;03m\"\"\"Lateral drainage to surface water.\"\"\"\u001b[39;00m\n\u001b[0;32m---> 11\u001b[0m     swdra: \u001b[43mSwitch\u001b[49m\u001b[43m[\u001b[49m\u001b[43mLiteral\u001b[49m\u001b[43m[\u001b[49m\u001b[38;5;241;43m0\u001b[39;49m\u001b[43m,\u001b[49m\u001b[43m \u001b[49m\u001b[38;5;241;43m1\u001b[39;49m\u001b[43m,\u001b[49m\u001b[43m \u001b[49m\u001b[38;5;241;43m2\u001b[39;49m\u001b[43m]\u001b[49m\u001b[43m]\u001b[49m\n\u001b[1;32m     12\u001b[0m     drfil: Optional[\u001b[38;5;28mstr\u001b[39m] \u001b[38;5;241m=\u001b[39m \u001b[38;5;28;01mNone\u001b[39;00m\n\u001b[1;32m     14\u001b[0m     \u001b[38;5;129m@model_validator\u001b[39m(mode\u001b[38;5;241m=\u001b[39m\u001b[38;5;124m'\u001b[39m\u001b[38;5;124mafter\u001b[39m\u001b[38;5;124m'\u001b[39m)\n\u001b[1;32m     15\u001b[0m     \u001b[38;5;28;01mdef\u001b[39;00m \u001b[38;5;21m_check_drfil\u001b[39m(\u001b[38;5;28mself\u001b[39m):\n",
      "File \u001b[0;32m~/miniconda3/envs/pyswap/lib/python3.11/typing.py:358\u001b[0m, in \u001b[0;36m_tp_cache.<locals>.decorator.<locals>.inner\u001b[0;34m(*args, **kwds)\u001b[0m\n\u001b[1;32m    356\u001b[0m \u001b[38;5;28;01mexcept\u001b[39;00m \u001b[38;5;167;01mTypeError\u001b[39;00m:\n\u001b[1;32m    357\u001b[0m     \u001b[38;5;28;01mpass\u001b[39;00m  \u001b[38;5;66;03m# All real errors (not unhashable args) are raised below.\u001b[39;00m\n\u001b[0;32m--> 358\u001b[0m \u001b[38;5;28;01mreturn\u001b[39;00m \u001b[43mfunc\u001b[49m\u001b[43m(\u001b[49m\u001b[38;5;241;43m*\u001b[39;49m\u001b[43margs\u001b[49m\u001b[43m,\u001b[49m\u001b[43m \u001b[49m\u001b[38;5;241;43m*\u001b[39;49m\u001b[38;5;241;43m*\u001b[39;49m\u001b[43mkwds\u001b[49m\u001b[43m)\u001b[49m\n",
      "File \u001b[0;32m~/miniconda3/envs/pyswap/lib/python3.11/typing.py:1401\u001b[0m, in \u001b[0;36m_GenericAlias.__getitem__\u001b[0;34m(self, args)\u001b[0m\n\u001b[1;32m   1399\u001b[0m     \u001b[38;5;28;01mraise\u001b[39;00m \u001b[38;5;167;01mTypeError\u001b[39;00m(\u001b[38;5;124mf\u001b[39m\u001b[38;5;124m\"\u001b[39m\u001b[38;5;124mCannot subscript already-subscripted \u001b[39m\u001b[38;5;132;01m{\u001b[39;00m\u001b[38;5;28mself\u001b[39m\u001b[38;5;132;01m}\u001b[39;00m\u001b[38;5;124m\"\u001b[39m)\n\u001b[1;32m   1400\u001b[0m \u001b[38;5;28;01mif\u001b[39;00m \u001b[38;5;129;01mnot\u001b[39;00m \u001b[38;5;28mself\u001b[39m\u001b[38;5;241m.\u001b[39m__parameters__:\n\u001b[0;32m-> 1401\u001b[0m     \u001b[38;5;28;01mraise\u001b[39;00m \u001b[38;5;167;01mTypeError\u001b[39;00m(\u001b[38;5;124mf\u001b[39m\u001b[38;5;124m\"\u001b[39m\u001b[38;5;132;01m{\u001b[39;00m\u001b[38;5;28mself\u001b[39m\u001b[38;5;132;01m}\u001b[39;00m\u001b[38;5;124m is not a generic class\u001b[39m\u001b[38;5;124m\"\u001b[39m)\n\u001b[1;32m   1403\u001b[0m \u001b[38;5;66;03m# Preprocess `args`.\u001b[39;00m\n\u001b[1;32m   1404\u001b[0m \u001b[38;5;28;01mif\u001b[39;00m \u001b[38;5;129;01mnot\u001b[39;00m \u001b[38;5;28misinstance\u001b[39m(args, \u001b[38;5;28mtuple\u001b[39m):\n",
      "\u001b[0;31mTypeError\u001b[0m: typing.Annotated[bool | int, PlainSerializer(func=<function <lambda> at 0x7f846c9676a0>, return_type=<class 'int'>, when_used='json')] is not a generic class"
     ]
    }
   ],
   "source": [
    "from pyswap.core.boundary import LateralDrainage, BottomBoundary\n",
    "\n",
    "lateral_drainage = LateralDrainage(swdra=0)\n",
    "bottom_boundary = BottomBoundary(swbbcfile=False, \n",
    "                                 swbotb=6)"
   ]
  },
  {
   "cell_type": "code",
   "execution_count": 3,
   "metadata": {},
   "outputs": [
    {
     "data": {
      "text/plain": [
       "'SWDRA = 0\\n'"
      ]
     },
     "execution_count": 3,
     "metadata": {},
     "output_type": "execute_result"
    }
   ],
   "source": [
    "lateral_drainage.model_string()"
   ]
  },
  {
   "cell_type": "markdown",
   "metadata": {},
   "source": [
    "## Putting the model together"
   ]
  },
  {
   "cell_type": "code",
   "execution_count": 16,
   "metadata": {},
   "outputs": [],
   "source": [
    "from pyswap.core.model import Model\n",
    "\n",
    "\n",
    "model = Model(metadata=meta,\n",
    "            simsettings=simset,\n",
    "            meteorology=meteo,\n",
    "            crop=crop,\n",
    "            irrigation=irrigation,\n",
    "            soilmoisture=soilmoisture,\n",
    "            surfaceflow=surfaceflow,\n",
    "            evaporation=evaporation,\n",
    "            soilprofile=soilprofile,\n",
    "            snowandfrost=snow,\n",
    "            richards=richards,\n",
    "            lateraldrainage=lateral_drainage,\n",
    "            bottomboundary=bottom_boundary)"
   ]
  },
  {
   "cell_type": "code",
   "execution_count": 25,
   "metadata": {},
   "outputs": [
    {
     "name": "stdout",
     "output_type": "stream",
     "text": [
      "AUTHOR = John Doe\n",
      "INSTITUTION = University of Somewhere\n",
      "EMAIL = john.doe@somewhere.com\n",
      "PROJECT_NAME = Test\n",
      "SWAP_VER = 4.0\n",
      "COMMENT = None\n",
      "SWCROP = True\n",
      "RDS = 200.0\n",
      "CROPROTATION =     cropstart     cropend cropfile  croptype\n",
      "0  2018-01-01  2018-01-01   maizes         1\n",
      "1  2018-01-01  2018-01-01  potatod         2\n",
      "2  2018-01-01  2018-01-01   grassd         3\n"
     ]
    },
    {
     "ename": "AttributeError",
     "evalue": "'Evaporation' object has no attribute 'model_string'",
     "output_type": "error",
     "traceback": [
      "\u001b[0;31m---------------------------------------------------------------------------\u001b[0m",
      "\u001b[0;31mAttributeError\u001b[0m                            Traceback (most recent call last)",
      "Cell \u001b[0;32mIn[25], line 5\u001b[0m\n\u001b[1;32m      2\u001b[0m model\u001b[38;5;241m.\u001b[39m\u001b[38;5;18m__dict__\u001b[39m \u001b[38;5;241m=\u001b[39m {k: v \u001b[38;5;28;01mfor\u001b[39;00m k, v \u001b[38;5;129;01min\u001b[39;00m model\u001b[38;5;241m.\u001b[39m\u001b[38;5;18m__dict__\u001b[39m\u001b[38;5;241m.\u001b[39mitems() \u001b[38;5;28;01mif\u001b[39;00m v \u001b[38;5;129;01mis\u001b[39;00m \u001b[38;5;129;01mnot\u001b[39;00m \u001b[38;5;28;01mNone\u001b[39;00m}\n\u001b[1;32m      4\u001b[0m \u001b[38;5;28;01mfor\u001b[39;00m k, v \u001b[38;5;129;01min\u001b[39;00m model\u001b[38;5;241m.\u001b[39m\u001b[38;5;18m__dict__\u001b[39m\u001b[38;5;241m.\u001b[39mitems():\n\u001b[0;32m----> 5\u001b[0m     \u001b[38;5;28mprint\u001b[39m(\u001b[43mv\u001b[49m\u001b[38;5;241;43m.\u001b[39;49m\u001b[43mmodel_string\u001b[49m())\n",
      "\u001b[0;31mAttributeError\u001b[0m: 'Evaporation' object has no attribute 'model_string'"
     ]
    }
   ],
   "source": [
    "# remove items from the model that are None\n",
    "model.__dict__ = {k: v for k, v in model.__dict__.items() if v is not None}\n",
    "\n",
    "for k, v in model.__dict__.items():\n",
    "    print(v.model_string())"
   ]
  }
 ],
 "metadata": {
  "kernelspec": {
   "display_name": "pyswap",
   "language": "python",
   "name": "python3"
  },
  "language_info": {
   "codemirror_mode": {
    "name": "ipython",
    "version": 3
   },
   "file_extension": ".py",
   "mimetype": "text/x-python",
   "name": "python",
   "nbconvert_exporter": "python",
   "pygments_lexer": "ipython3",
   "version": "3.11.5"
  }
 },
 "nbformat": 4,
 "nbformat_minor": 2
}
