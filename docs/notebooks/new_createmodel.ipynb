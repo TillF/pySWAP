{
 "cells": [
  {
   "cell_type": "markdown",
   "metadata": {},
   "source": [
    "## Create a database connection\n",
    "\n",
    "Storing data in the database instead instead of individual files would make it easier to manage multiple models and their versions."
   ]
  },
  {
   "cell_type": "code",
   "execution_count": 1,
   "metadata": {},
   "outputs": [],
   "source": [
    "# from pyswap.core.database import connection as con\n",
    "\n",
    "# db_path = Path(pyswap_path, \"pyswapdb.sqlite\")\n",
    "# con.DatabaseConnection(db_path)\n"
   ]
  },
  {
   "cell_type": "markdown",
   "metadata": {},
   "source": [
    "## Metadata"
   ]
  },
  {
   "cell_type": "markdown",
   "metadata": {},
   "source": [
    "Metadata is an important part of a project. Attached to the model definition provides some basic information about who created the model and how to contact them."
   ]
  },
  {
   "cell_type": "code",
   "execution_count": 2,
   "metadata": {},
   "outputs": [],
   "source": [
    "from pyswap.core.metadata import Metadata\n",
    "\n",
    "meta = Metadata(author=\"John Doe\",\n",
    "                institution=\"University of Somewhere\",\n",
    "                email=\"john.doe@somewhere.com\",\n",
    "                project=\"Test\",\n",
    "                swap_ver=\"4.0\")"
   ]
  },
  {
   "cell_type": "markdown",
   "metadata": {},
   "source": [
    "## Simulation settings"
   ]
  },
  {
   "cell_type": "markdown",
   "metadata": {},
   "source": [
    "The first thing to do is to define the simulation settings. The `SimSettings` object will store the information about the environment, files the user wants to output, simulation period, etc. "
   ]
  },
  {
   "cell_type": "code",
   "execution_count": 3,
   "metadata": {},
   "outputs": [],
   "source": [
    "from pyswap.core.simsettings import SimSettings\n",
    "from datetime import date as dt\n",
    "\n",
    "simset = SimSettings(tstart='2018-01-01', \n",
    "                     swyrvar=1,\n",
    "                     tend=dt(2018, 1, 2),\n",
    "                     outdat=[dt(2018, 1, 1), dt(2018, 1, 1)],\n",
    "                     inlist_csv=['rain', 'evap'],\n",
    "                     dznew=[0.13452, 0.2345, 0.333])\n"
   ]
  },
  {
   "cell_type": "markdown",
   "metadata": {},
   "source": [
    "## Meteorology"
   ]
  },
  {
   "cell_type": "markdown",
   "metadata": {},
   "source": [
    "Usually a SWAP model requires some form of meteorological data in the form of .met file. For simplicity, we use a csv file (with .met extension) containing data from multiple years. One of the implemented methods fetches the data from KNMI API."
   ]
  },
  {
   "cell_type": "code",
   "execution_count": 4,
   "metadata": {},
   "outputs": [],
   "source": [
    "from pyswap.atmosphere.meteorology import MeteorologicalData\n",
    "\n",
    "meteo_data = MeteorologicalData()\n",
    "meteo_data.weather_kmni(station='377')"
   ]
  },
  {
   "cell_type": "code",
   "execution_count": 5,
   "metadata": {},
   "outputs": [],
   "source": [
    "from pyswap.atmosphere.meteorology import PenmanMonteith\n",
    "pen_mon = PenmanMonteith(alt=100.0)"
   ]
  },
  {
   "cell_type": "code",
   "execution_count": 6,
   "metadata": {},
   "outputs": [],
   "source": [
    "from pyswap.atmosphere.meteorology import Meteorology, PenmanMonteith\n",
    "from pandas import DataFrame\n",
    "\n",
    "rainflux = DataFrame({'time': [1.0, 360.0], \n",
    "            'rainflux': [20.0, 20.0]})\n",
    "\n",
    "meteo = Meteorology(metfil='377',\n",
    "                    file_meteo=meteo_data,\n",
    "                    lat=43.0,\n",
    "                    swetr=1,\n",
    "                    penman_monteith=pen_mon,\n",
    "                    swdivide=0,\n",
    "                    swetsine=0,\n",
    "                    swrain=0,\n",
    "                    table_rainflux=rainflux)\n",
    "\n"
   ]
  },
  {
   "cell_type": "markdown",
   "metadata": {},
   "source": [
    "## Crop"
   ]
  },
  {
   "cell_type": "code",
   "execution_count": 9,
   "metadata": {},
   "outputs": [],
   "source": [
    "from pyswap.plant.crop import CropFile\n",
    "\n",
    "maizes = CropFile(name='maizes', path='../../data/.crp/maizes.crp')\n",
    "grassd = CropFile(name='grassd', path='../../data/.crp/grassd.crp')\n",
    "potatod = CropFile(name='potatod', path='../../data/.crp/potatod.crp')\n"
   ]
  },
  {
   "cell_type": "code",
   "execution_count": 10,
   "metadata": {},
   "outputs": [],
   "source": [
    "from pyswap.plant.crop import Crop\n",
    "from pandas import DataFrame\n",
    "from datetime import date as dt\n",
    "# Would be nice to have a subclass for managing the crop files\n",
    "\n",
    "croprotation = DataFrame({'cropstart':[dt(2018, 1, 1), dt(2018, 1, 1), dt(2018, 1, 1)],\n",
    "                'cropend':[dt(2018, 1, 1), dt(2018, 1, 1), dt(2018, 1, 1)],\n",
    "                'cropfile':['maizes', 'potatod', 'grassd'],\n",
    "                'croptype':[1, 2, 3]})\n",
    "\n",
    "\n",
    "crop = Crop(swcrop=1,\n",
    "            rds=200.0,\n",
    "            table_croprotation=croprotation,\n",
    "            cropfiles=[maizes, grassd, potatod])"
   ]
  },
  {
   "cell_type": "code",
   "execution_count": 11,
   "metadata": {},
   "outputs": [
    {
     "data": {
      "text/plain": [
       "'3 crop file(s) saved successfully.'"
      ]
     },
     "execution_count": 11,
     "metadata": {},
     "output_type": "execute_result"
    }
   ],
   "source": [
    "crop.save_crop('./')"
   ]
  },
  {
   "cell_type": "markdown",
   "metadata": {},
   "source": [
    "## Irrigation"
   ]
  },
  {
   "cell_type": "code",
   "execution_count": 1,
   "metadata": {},
   "outputs": [],
   "source": [
    "from pyswap.soilwater.irrigation import Irrigation, FixedIrrigation\n",
    "from pandas import DataFrame\n",
    "\n",
    "fixed_irrigation = FixedIrrigation(swirgfil=0,\n",
    "                                   table_irrigevents=DataFrame({'time':[1.0, 360.0],\n",
    "                                                            'irrigation':[20.0, 20.0]}))\n",
    "\n",
    "irrigation = Irrigation(swirfix=1,\n",
    "                        fixedirrig=fixed_irrigation,\n",
    "                        schedule=0)\n",
    "                                   "
   ]
  },
  {
   "cell_type": "markdown",
   "metadata": {},
   "source": [
    "## Drainage"
   ]
  },
  {
   "cell_type": "code",
   "execution_count": 2,
   "metadata": {},
   "outputs": [],
   "source": [
    "from pyswap.soilwater.drainage import LateralDrainage, DrainageFile\n",
    "dra_file = DrainageFile(name='swap', path='../../data/swap.dra')\n",
    "latdrain = LateralDrainage(swdra=0, drainagefile=dra_file)"
   ]
  },
  {
   "cell_type": "code",
   "execution_count": 3,
   "metadata": {},
   "outputs": [
    {
     "data": {
      "text/plain": [
       "LateralDrainage(swdra=0, drfil=None, drainagefile=DrainageFile(name='swap', path='../../data/swap.dra', content='**********************************************************************************\\n* Filename: swap.dra                  \\n* Contents: SWAP 4 - Input data for basic drainage and extended drainage\\n**********************************************************************************\\n* Comment area:\\n* Testbank of SWAP: build with template of dra-file\\n*\\n**********************************************************************************\\n\\n*** BASIC DRAINAGE SECTION ***\\n\\n**********************************************************************************\\n* Part 0: General\\n\\n* Switch, method of lateral drainage calculation:\\n  DRAMET = 2                 ! 1 = Use table of drainage flux - groundwater level relation\\n                             ! 2 = Use drainage formula of Hooghoudt or Ernst\\n                             ! 3 = Use drainage/infiltration resistance, multi-level if needed\\n\\n  SWDIVD = 1                 ! Calculate vertical distribution of drainage flux in groundwater [Y=1, N=0]\\n\\n* If SWDIVD = 1, specify anisotropy factor COFANI (horizontal/vertical saturated hydraulic\\n* conductivity) for each soil layer (maximum MAHO), [0.0001..1000 -, R]:\\n  COFANI = 1.0 1.0\\n\\n* Switch to adjust upper boundary of model discharge layer\\n  SWDISLAY = 0               ! 0 = No adjustment\\n                             ! 1 = Adjusment based on depth of top of model discharge\\n                             ! 2 = Adjusment based on factor of top of model discharge\\n\\n* If SWDISLAY = 1 or 2, specify for the drainage systems (NRLEVS):\\n* SWTOPDISLAY = Switch for each drainage level to distribute drainage flux vertically with a given position of the top of the model discharge layers [Y=1, N=0]\\n* ZTOPDISLAY = Array with depth of top of model discharge layer for each drain level [-10000.0..0.0, cm, R]\\n* FTOPDISLAY = Array with factor of top of model discharge layer for each drain level [0.0..1.0, -, R]\\n\\n SWTOPDISLAY  ZTOPDISLAY  FTOPDISLAY\\n           1     -200.00         0.5\\n           0       -0.01         0.0\\n* End of table\\n\\n**********************************************************************************\\n\\n**********************************************************************************\\n* Part 1: Table of drainage flux - groundwater level relation (DRAMET = 1)\\n\\n* If SWDIVD = 1, specify the drain spacing:\\n  LM1 = 30.0                 ! Drain spacing, [1..1000 m, R]\\n\\n* Specify drainage flux QDRAIN [-100..1000 cm/d, R] as function of groundwater level GWL [-1000.0..10.0 cm, R]\\n* negative GWL is below soil surface; start with highest groundwater level; maximum of 25 records:\\n\\n QDRAIN     GWL\\n    0.5   -20.0\\n    0.1  -100.0\\n* End of table                                             \\n\\n**********************************************************************************\\n\\n**********************************************************************************\\n* Part 2: Drainage formula of Hooghoudt or Ernst (DRAMET = 2)\\n*\\n* Drain characteristics:\\n  LM2 = 11.0                 ! Drain spacing, [1..1000 m, R]\\n  SHAPE = 0.8                ! Shape factor to account for actual location between drain and water divide [0.0..1.0 -, R]\\n  WETPER = 30.0              ! Wet perimeter of the drain, [0..1000 cm, R]\\n  ZBOTDR = -80.0             ! Level of drain bottom, [-1000..0 cm, R, neg. below soil surface]\\n  ENTRES = 20.0              ! Drain entry resistance, [0..1000 d, R]\\n\\n* Soil profile characteristics:\\n\\n* Position of drain:  \\n  IPOS = 2                   ! 1 = On top of an impervious layer in a homogeneous profile          \\n                             ! 2 = Above an impervious layer in a homogeneous profile              \\n                             ! 3 = At the interface of a fine upper and a coarse lower soil layer\\n                             ! 4 = In the lower, more coarse soil layer\\n                             ! 5 = In the upper, more fine soil layer                                             \\n\\n* For all positions specify:\\n  BASEGW = -200.0            ! Level of impervious layer, [-1d4..0 cm, R]\\n  KHTOP = 25.0               ! Horizontal hydraulic conductivity top layer, [0..1000 cm/d, R]\\n\\n* In addition, in case IPOS = 3, 4 or 5\\n  KHBOT = 10.0               ! horizontal hydraulic conductivity bottom layer, [0..1000 cm/d, R]\\n  ZINTF = -150.0             ! Level of interface of fine and coarse soil layer, [-1d4..0 cm, R]\\n\\n* In addition, in case IPOS = 4 or 5\\n  KVTOP = 5.0                ! Vertical hydraulic conductivity top layer, [0..1000 cm/d, R]\\n  KVBOT = 10.0               ! Vertical hydraulic conductivity bottom layer, [0..1000 cm/d, R]\\n\\n* In addition, in case IPOS = 5\\n  GEOFAC = 4.8               ! Geometry factor of Ernst,  [0..100 -, R]\\n\\n**********************************************************************************\\n\\n**********************************************************************************\\n* Part 3: Drainage and infiltration resistance (DRAMET = 3)\\n\\n  NRLEVS = 2                 ! Number of drainage levels, [1..5, I]\\n\\n* Option for interflow in highest drainage level (shallow system with short residence time)\\n  SWINTFL = 0                ! Switch for interflow [0,1, I]\\n\\n* If SWINTFL = 1, specify:\\n  COFINTFLB = 0.5            ! Coefficient for interflow relation  [0.01..10.0 d, R]\\n  EXPINTFLB = 1.0            ! Exponent for interflow relation  [0.1..1.0 -, R]\\n\\n* Switch to adjust the bottom of the model discharge layer in case of lateral interflow (SWDIVD=1).\\n* In case of SWTOPNRSRF = 1, the bottom of the highest order drainage system (ZBORDR(NUMDRAIN)) represents the maximum depth of the interflow.  \\n SWTOPNRSRF = 0              ! Switch to enable adjustment of model discharge layer [0,1, I] \\n\\n**********************************************************************************\\n\\n**********************************************************************************\\n* Part 3a: Drainage to level 1\\n\\n  DRARES1 = 100.0            ! Drainage resistance, [10..1d5 d, R]\\n  INFRES1 = 100.0            ! Infiltration resistance, [0..1d5 d, R]\\n\\n* Switch, for allowance drainage/infiltration:\\n  SWALLO1 = 1                ! 1 = Drainage and infiltration are both allowed\\n                             ! 2 = Drainage is not allowed\\n                             ! 3 = Infiltration is not allowed                          \\n\\n* If SWDIVD = 1 (drainage flux vertically distributed), specify the drain spacing:\\n  L1 = 20.0                  ! Drain spacing, [1..100000 m, R]\\n\\n  ZBOTDR1 = -90.0            ! Level of drainage medium bottom, [-10000..0 cm, R]\\n  SWDTYP1 = 2                ! Type of drainage medium: 1 = drain tube, 2 = open channel\\n\\n* Specify date DATOWL1 [YYYY-MM-DD] and channel water level LEVEL1 [-10000..200, cm, R]\\n* LEVEL1 is negative if below soil surface; maximum MAOWL records:\\n\\n    DATOWL1  LEVEL1\\n 2002-01-12   -90.0\\n 2002-12-14   -90.0\\n* End of table\\n\\n**********************************************************************************\\n\\n**********************************************************************************\\n* Part 3b: Drainage to level 2\\n\\n  DRARES2 = 100.0            ! Drainage resistance, [10..1d5 d, R]\\n  INFRES2 = 100.0            ! Infiltration resistance, [0..1d5 d, R]\\n\\n* Switch, for allowance drainage/infiltration:\\n  SWALLO2 = 1                ! 1 = Drainage and infiltration are both allowed\\n                             ! 2 = Drainage is not allowed\\n                             ! 3 = Infiltration is not allowed                          \\n\\n* If SWDIVD = 1 (drainage flux vertically distributed), specify the drain spacing:\\n  L2 = 20.0                  ! Drain spacing, [1..100000 m, R]\\n\\n  ZBOTDR2 = -90.0            ! Level of drainage medium bottom, [-10000..0 cm, R]\\n  SWDTYP2 = 2                ! Type of drainage medium: 1 = drain tube, 2 = open channel\\n\\n* Specify date DATOWL2 [YYYY-MM-DD] and channel water level LEVEL2 [-10000..200, cm, R]\\n* LEVEL2 is negative if below soil surface; maximum MAOWL records:\\n\\n    DATOWL2  LEVEL2\\n 2002-01-12   -90.0\\n 2002-12-14   -90.0\\n* End of table\\n\\n**********************************************************************************\\n\\n**********************************************************************************\\n* Part 3c: Drainage to level 3\\n\\n  DRARES3 = 100.0            ! Drainage resistance, [10..1d5 d, R]\\n  INFRES3 = 100.0            ! Infiltration resistance, [0..1d5 d, R]\\n\\n* Switch, for allowance drainage/infiltration:\\n  SWALLO3 = 1                ! 1 = Drainage and infiltration are both allowed\\n                             ! 2 = Drainage is not allowed\\n                             ! 3 = Infiltration is not allowed                          \\n\\n* If SWDIVD = 1 (drainage flux vertically distributed), specify the drain spacing:\\n  L3 = 20.0                  ! Drain spacing, [1..100000 m, R]\\n\\n  ZBOTDR3 = -90.0            ! Level of drainage medium bottom, [-10000..0 cm, R]\\n  SWDTYP3 = 2                ! Type of drainage medium: 1 = drain tube, 2 = open channel\\n\\n* Specify date DATOWL3 [YYYY-MM-DD] and channel water level LEVEL3 [-10000..200, cm, R]\\n* LEVEL3 is negative if below soil surface; maximum MAOWL records:\\n\\n    DATOWL3  LEVEL3\\n 2002-01-12   -90.0\\n 2002-12-14   -90.0\\n* End of table\\n\\n**********************************************************************************\\n\\n**********************************************************************************\\n* Part 3d: Drainage to level 4\\n\\n  DRARES4 = 100.0            ! Drainage resistance, [10..1d5 d, R]\\n  INFRES4 = 100.0            ! Infiltration resistance, [0..1d5 d, R]\\n\\n* Switch, for allowance drainage/infiltration:\\n  SWALLO4 = 1                ! 1 = Drainage and infiltration are both allowed\\n                             ! 2 = Drainage is not allowed\\n                             ! 3 = Infiltration is not allowed                          \\n\\n* If SWDIVD = 1 (drainage flux vertically distributed), specify the drain spacing:\\n  L4 = 20.0                  ! Drain spacing, [1..100000 m, R]\\n\\n  ZBOTDR4 = -90.0            ! Level of drainage medium bottom, [-10000..0 cm, R]\\n  SWDTYP4 = 2                ! Type of drainage medium: 1 = drain tube, 2 = open channel\\n\\n* Specify date DATOWL4 [YYYY-MM-DD] and channel water level LEVEL4 [-10000..200, cm, R]\\n* LEVEL4 is negative if below soil surface; maximum MAOWL records:\\n\\n    DATOWL4  LEVEL4\\n 2002-01-12   -90.0\\n 2002-12-14   -90.0\\n* End of table\\n\\n**********************************************************************************\\n\\n**********************************************************************************\\n* Part 3e: Drainage to level 5\\n\\n  DRARES5 = 100.0            ! Drainage resistance, [10..1d5 d, R]\\n  INFRES5 = 100.0            ! Infiltration resistance, [0..1d5 d, R]\\n\\n* Switch, for allowance drainage/infiltration:\\n  SWALLO5 = 1                ! 1 = Drainage and infiltration are both allowed\\n                             ! 2 = Drainage is not allowed\\n                             ! 3 = Infiltration is not allowed                          \\n\\n* If SWDIVD = 1 (drainage flux vertically distributed), specify the drain spacing:\\n  L5 = 20.0                  ! Drain spacing, [1..100000 m, R]\\n\\n  ZBOTDR5 = -90.0            ! Level of drainage medium bottom, [-10000..0 cm, R]\\n  SWDTYP5 = 2                ! Type of drainage medium: 1 = drain tube, 2 = open channel\\n\\n* Specify date DATOWL5 [YYYY-MM-DD] and channel water level LEVEL5 [-10000..200, cm, R]\\n* LEVEL5 is negative if below soil surface; maximum MAOWL records:\\n\\n    DATOWL5  LEVEL5\\n 2002-01-12   -90.0\\n 2002-12-14   -90.0\\n* End of table\\n\\n**********************************************************************************\\n\\n*** EXTENDED DRAINAGE SECTION ***\\n\\n**********************************************************************************\\n* Part 0: Reference level\\n\\n  ALTCU = 0.0                ! Altitude of the control unit relative to reference level [-300000..300000 cm, R]\\n\\n**********************************************************************************\\n\\n**********************************************************************************\\n* Part 1: drainage characteristics \\n\\n  NRSRF = 2                  ! number of subsurface drainage levels [1..5, I]\\n\\n* Table with physical characteristics of each subsurface drainage level:\\n* Variables RENTRY, REXIT, WIDTHR and TALUDR must have realistic values in case of open channels\\n* LEVEL = Drainage level number [1..NRSRF, I]\\n* SWDTYP = Type of drainage medium [open=0, closed=1] \\n* L = Spacing between channels/drains [1..100000 m, R]\\n* ZBOTDRE = Altitude of bottom of channel or drain [ALTCU-1000..ALTCU-0.01 cm,R]\\n* GWLINF = Groundwater level for maximum infiltration [-1000..0 cm, R]\\n* RDRAIN = Drainage resistance [1..100000 d, R]\\n* RINFI = Infiltration resistance  [1..100000 d, R]\\n* RENTRY = Entry resistance  [0..100 d, R]\\n* REXIT = Exit resistance   [0..100 d, R]\\n* WIDTHR = Bottom width of channel [0..10000 cm, R]\\n* TALUDR = Side-slope (dh/dw) of channel [0.01..5, R]\\n\\n LEV  SWDTYP      L  ZBOTDRE  GWLINF  RDRAIN   RINFI  RENTRY  REXIT  WIDTHR  TALUDR\\n   1       0  250.0   1093.0  -350.0   150.0  4000.0     0.8    0.8   100.0    0.66\\n   2       0  200.0   1150.0  -300.0   150.0  1500.0     0.8    0.8   100.0    0.66\\n* End of table\\n\\n* Switch to introduce rapid subsurface drainage [0..2, I]\\n  SWNRSRF = 0                ! 0 = No rapid drainage\\n                             ! 1 = Rapid drainage in the highest drainage system (implies adjustment of RDRAIN of highest drainage system)\\n                             ! 2 = Rapid drainage as interflow according to a power relation (implies adjustment of RDRAIN of highest drainage system)\\n\\n* In case of SWRNSRF = 1, specify rapid drainage\\n  RSURFDEEP = 30.0           ! Maximum resistance of rapid subsurface drainage [0.001..1000.0 d, R]\\n  RSURFSHALLOW = 10.0        ! Minimum resistance of rapid subsurface drainage [0.001..1000.0 d, R]\\n\\n**********************************************************************************\\n\\n**********************************************************************************\\n* Part 2: Specification and control of surface water system\\n\\n* Switch for interaction with surface water system [1..3, I] \\n  SWSRF = 2                  ! 1 = No interaction with surface water system\\n                             ! 2 = Surface water system is simulated without separate primary system \\n                             ! 3 = Surface water system is simulated with separate primary system\\n\\n* If SWSRF = 2 or 3, specify option for surface water level of secondary system [1..2, I]\\n  SWSEC = 2                  ! 1 = Surface water level is input\\n                             ! 2 = Surface water level is simulated\\n\\n\\n* Water level in secondary water course [ALTCU-1000..ALTCU-0.01 cm, R] as function of DATE2 [YYYY-MM-DD] \\n      DATE2     WLS\\n 2002-01-02  -100.0\\n 2002-06-14   -80.0\\n 2002-10-24  -120.0\\n* End of table\\n\\n* Miscellaneous parameters\\n  WLACT = 1123.0             ! Initial surface water level [ALTCU-1000..ALTCU cm,R]\\n  OSSWLM = 2.5               ! Criterium for warning about oscillation [0..10 cm, R]\\n\\n* Management of surface water levels\\n  NMPER = 4                  ! Number of management periods [1..3660, I]\\n\\n* For each management period specify:\\n* IMPER = Index of management period [1..NMPER, I]\\n* IMPEND = Date that period ends [YYYY-MM-DD]\\n* SWMAN = Type of water management 1 = fixed weir crest, 2 = automatic weir [1..2, I]\\n* WSCAP = Surface water supply capacity [0..100 cm/d, R]\\n* WLDIP = Allowed dip of surface water level before starting supply [0..100 cm, R]\\n* INTWL = Length of water-level adjustment period (SWMAN = 2 only) [1..31 d, I]\\n\\n IMPER_4B      IMPEND  SWMAN  WSCAP  WLDIP  INTWL\\n        1  2002-01-31      1    0.0    0.0      1\\n        2  2002-04-01      2    0.0    5.0      1\\n        3  2002-11-01      2    0.0    5.0      1\\n        4  2002-12-31      1    0.0    0.0      1\\n* End of table\\n\\n* Switch for type of discharge relationship [1..2, I]\\n  SWQHR = 1                  ! 1 = Exponential relationship\\n                             ! 2 = Table\\n\\n* If SWQHR = 1, specify:\\n  SOFCU = 100.0              ! Size of the control unit [0.1..100000.0 ha, R]\\n\\n* If SWQHR = 1, specify exponential discharge relation for all periods: \\n* IMPER = Index of management period [1..NMPER, I]\\n* HBWEIR = Weir crest; levels above soil surface are allowed, but simulated surface water levels should remain below 100 cm above soil surface; \\n*   the crest must be higher than the deepest channel bottom of the secondary system (ZBOTDR(1 or 2), [ALTCU-ZBOTDR..ALTCU+100 cm,R].\\n*   If SWMAN = 2, HBWEIR represents the lowest possible weir position.\\n* ALPHAW = Alpha-coefficient of discharge formula [0.1..50.0, R]\\n* BETAW = Beta-coefficient of discharge formula [0.5..3.0, R]\\n\\n IMPER_4C  HBWEIR  ALPHAW   BETAW\\n        1  1114.0     3.0  1.4765\\n        2  1110.0     3.0  1.4765\\n        3  1110.0     3.0  1.4765\\n        4  1114.0     3.0  1.4765\\n* End of table\\n\\n* If SWQHR = 2, specify table discharge relation:\\n* IMPER = Index of management period [1..NMPER, I]\\n* IMPTAB = Index per management period [1..10, I]\\n* HTAB = Surface water level [ALTCU-1000..ALTCU+100 cm, R] (first value for each period = ALTCU + 100 cm)\\n* QTAB = Discharge [0..500 cm/d, R] (should go down to a value of zero at a level that is higher than the deepest channel bottom of secondary surface water system)\\n\\n IMPER_4D  IMPTAB    HTAB  QTAB\\n        1       1   100.0   2.0\\n        1       2     0.0   1.0\\n        1       3  -100.0   0.5\\n        1       4  -185.0   0.0\\n* End of table\\n\\n* If SWSRF = 3, specify water levels in the primary system [max. = 52]\\n* No levels above soil surface for primary system      \\n \\n* Water level in primary water course [ALTCU-1000..ALTCU-0.01 cm, R] as function of DATE1 [YYYY-MM-DD]\\n      DATE1     WLP\\n 2002-01-02  -100.0\\n 2002-06-14   -80.0\\n 2002-10-24  -120.0\\n* End of table\\n\\n**********************************************************************************\\n\\n* End of .dra file           !\\n'))"
      ]
     },
     "execution_count": 3,
     "metadata": {},
     "output_type": "execute_result"
    }
   ],
   "source": [
    "latdrain"
   ]
  },
  {
   "cell_type": "code",
   "execution_count": 2,
   "metadata": {},
   "outputs": [
    {
     "data": {
      "text/plain": [
       "'.dra file saved successfully.'"
      ]
     },
     "execution_count": 2,
     "metadata": {},
     "output_type": "execute_result"
    }
   ],
   "source": [
    "latdrain.save_drainage('./')"
   ]
  },
  {
   "cell_type": "markdown",
   "metadata": {},
   "source": [
    "## Soil water"
   ]
  },
  {
   "cell_type": "code",
   "execution_count": 12,
   "metadata": {},
   "outputs": [],
   "source": [
    "from pyswap.soilwater.soilmoisture import SoilMoisture\n",
    "from pyswap.soilwater.surfaceflow import SurfaceFlow\n",
    "from pyswap.soilwater.evaporation import Evaporation\n",
    "\n",
    "\n",
    "soilmoisture = SoilMoisture(swinco=2,\n",
    "                            gwli=-75.0)\n",
    "\n",
    "surfaceflow = SurfaceFlow(swpondmx=0,\n",
    "                          pondmx=0.2,\n",
    "                          swrunon=0)\n",
    "\n",
    "evaporation = Evaporation(swcfbs=0,\n",
    "                          cfevappond=1.25,\n",
    "                          swredu=1,\n",
    "                          cofredbl=0.35,\n",
    "                          rsigni=0.5)\n"
   ]
  },
  {
   "cell_type": "code",
   "execution_count": 1,
   "metadata": {},
   "outputs": [],
   "source": [
    "from pyswap.soilwater.soilprofile import SoilProfile\n",
    "from pandas import DataFrame\n",
    "\n",
    "df_soilprofile = DataFrame({\n",
    "    'ISUBLAY': [1, 2, 3, 4],\n",
    "    'ISOILLAY': [1, 1, 2, 2],\n",
    "    'HSUBLAY': [10.0, 20.0, 30.0, 140.0],\n",
    "    'HCOMP': [1.0, 5.0, 5.0, 10.0],\n",
    "    'NCOMP': [10, 4, 6, 14]\n",
    "})\n",
    "\n",
    "soilprofile = SoilProfile(table_soilprofile=df_soilprofile,\n",
    "                          swsophy=0,\n",
    "                          swhyst=0,\n",
    "                          swmacro=0)\n",
    "\n"
   ]
  },
  {
   "cell_type": "code",
   "execution_count": 2,
   "metadata": {},
   "outputs": [
    {
     "data": {
      "text/plain": [
       "SoilProfile(table_soilprofile=   ISUBLAY  ISOILLAY  HSUBLAY  HCOMP  NCOMP\n",
       "0        1         1     10.0    1.0     10\n",
       "1        2         1     20.0    5.0      4\n",
       "2        3         2     30.0    5.0      6\n",
       "3        4         2    140.0   10.0     14, swsophy=0, swhyst=0, swmacro=0, filenamesophy=(None,), other_str=(None,), tau=None, table_soilhydrfunc=None)"
      ]
     },
     "execution_count": 2,
     "metadata": {},
     "output_type": "execute_result"
    }
   ],
   "source": [
    "soilprofile"
   ]
  },
  {
   "cell_type": "code",
   "execution_count": 14,
   "metadata": {},
   "outputs": [],
   "source": [
    "from pyswap.soilwater.snow import SnowAndFrost\n",
    "\n",
    "snow = SnowAndFrost(swsnow=0,\n",
    "                    swfrost=0)\n"
   ]
  },
  {
   "cell_type": "code",
   "execution_count": 15,
   "metadata": {},
   "outputs": [],
   "source": [
    "from pyswap.soilwater.richards import RichardsSettings\n",
    "\n",
    "richards = RichardsSettings(swkmean=1,\n",
    "                            swkimpl=0)\n"
   ]
  },
  {
   "cell_type": "code",
   "execution_count": 16,
   "metadata": {},
   "outputs": [],
   "source": [
    "from pyswap.core.boundary import BottomBoundary\n",
    "\n",
    "bottom_boundary = BottomBoundary(swbbcfile=0, \n",
    "                                 swbotb=6)"
   ]
  },
  {
   "cell_type": "markdown",
   "metadata": {},
   "source": [
    "## Putting the model together"
   ]
  },
  {
   "cell_type": "code",
   "execution_count": 18,
   "metadata": {},
   "outputs": [],
   "source": [
    "from pyswap.core.model import Model\n",
    "\n",
    "\n",
    "model = Model(metadata=meta,\n",
    "            simsettings=simset,\n",
    "            meteorology=meteo,\n",
    "            crop=crop,\n",
    "            irrigation=irrigation,\n",
    "            soilmoisture=soilmoisture,\n",
    "            surfaceflow=surfaceflow,\n",
    "            evaporation=evaporation,\n",
    "            soilprofile=soilprofile,\n",
    "            snowandfrost=snow,\n",
    "            richards=richards,\n",
    "            lateraldrainage=latdrain,\n",
    "            bottomboundary=bottom_boundary)"
   ]
  },
  {
   "cell_type": "code",
   "execution_count": 19,
   "metadata": {},
   "outputs": [
    {
     "name": "stderr",
     "output_type": "stream",
     "text": [
      "/home/zawadzkim/miniconda3/envs/pyswap/lib/python3.11/site-packages/pydantic/main.py:308: UserWarning: Pydantic serializer warnings:\n",
      "  Expected `str` but got `tuple` - serialized value may not be as expected\n",
      "  return self.__pydantic_serializer__.to_python(\n"
     ]
    }
   ],
   "source": [
    "string = model.concat_swp()"
   ]
  },
  {
   "cell_type": "code",
   "execution_count": 20,
   "metadata": {},
   "outputs": [
    {
     "name": "stdout",
     "output_type": "stream",
     "text": [
      "PROJECT = \"Test\"\n",
      "PATHWORK = \"/home/zawadzkim/projects/pySWAP/docs/notebooks\"\n",
      "PATHATM = \"/home/zawadzkim/projects/pySWAP/docs/notebooks\"\n",
      "PATHCROP = \"/home/zawadzkim/projects/pySWAP/docs/notebooks\"\n",
      "PATHDRAIN = \"/home/zawadzkim/projects/pySWAP/docs/notebooks\"\n",
      "SWSCRE = 0\n",
      "SWERROR = 1\n",
      "TSTART = 2018-01-01\n",
      "TEND = 2018-01-02\n",
      "NPRINTDAY = 1\n",
      "SWMONTH = 1\n",
      "SWYRVAR = 1\n",
      "OUTDAT = \n",
      "2018-01-01\n",
      "2018-01-01\n",
      "OUTFIL = \"result\"\n",
      "SWHEADER = 0\n",
      "SWWBA = 0\n",
      "SWEND = 0\n",
      "SWVAP = 0\n",
      "SWBAL = 0\n",
      "SWBLC = 0\n",
      "SWSBA = 0\n",
      "SWATE = 0\n",
      "SWBMA = 0\n",
      "SWDRF = 0\n",
      "SWSWB = 0\n",
      "SWINI = 0\n",
      "SWINC = 0\n",
      "SWCRP = 0\n",
      "SWSTR = 0\n",
      "SWIRG = 0\n",
      "SWCSV = 1\n",
      "INLIST_CSV = \"rain,evap\"\n",
      "SWCSV_TZ = 0\n",
      "SWAFO = 0\n",
      "SWAUN = 0\n",
      "SWDISCRVERT = 0\n",
      "DZNEW = 0.13452 0.2345 0.333\n",
      "METFIL = 377\n",
      "LAT = 43.0\n",
      "SWETR = 1\n",
      "SWDIVIDE = 0\n",
      "SWETSINE = 0\n",
      "ALT = 100.0\n",
      "ALTW = 10.0\n",
      "ANGSTROMA = 0.25\n",
      "ANGSTROMB = 0.5\n",
      "SWRAIN = 0\n",
      " TIME  RAINFLUX\n",
      "  1.0      20.0\n",
      "360.0      20.0\n",
      "SWCROP = \"True\"\n",
      "RDS = 200.0\n",
      " CROPSTART    CROPEND CROPFILE  CROPTYPE\n",
      "2018-01-01 2018-01-01   maizes         1\n",
      "2018-01-01 2018-01-01  potatod         2\n",
      "2018-01-01 2018-01-01   grassd         3\n",
      "SWIRFIX = \"False\"\n",
      "SCHEDULE = \"False\"\n",
      "SWINCO = 2\n",
      "GWLI = -75\n",
      "SWPONDMX = 0\n",
      "SWRUNON = 0\n",
      "RSRO = 0.5\n",
      "RSROEXP = 1.0\n",
      "PONDMX = 0.2\n",
      "SWCFBS = 0\n",
      "SWREDU = 1\n",
      "CFEVAPPOND = 1.25\n",
      "COFREDBL = 0.35\n",
      "RSIGNI = 0.5\n",
      " ISUBLAY  ISOILLAY  HSUBLAY  HCOMP  NCOMP\n",
      "       1         1     10.0    1.0     10\n",
      "       2         1     20.0    5.0      4\n",
      "       3         2     30.0    5.0      6\n",
      "       4         2    140.0   10.0     14\n",
      "SWSOPHY = \"False\"\n",
      "SWHYST = 0\n",
      "SWMACRO = \"False\"\n",
      "FILENAMESOPHY = \"[None]\"\n",
      "SWSNOW = \"False\"\n",
      "SWFROST = \"False\"\n",
      "SWKMEAN = 1\n",
      "SWKIMPL = \"False\"\n",
      "DTMIN = \"1e-06\"\n",
      "DTMAX = 0.04\n",
      "GWLCONV = 100.0\n",
      "CRITDEVH1CP = 0.01\n",
      "CRITDEVH2CP = 0.1\n",
      "CRITDEVPONDDT = 0.0001\n",
      "MAXIT = 30\n",
      "MAXBACKTR = 3\n",
      "SWDRA = 0\n",
      "SWBBCFILE = 0\n",
      "SWBOTB = 6\n",
      "\n"
     ]
    }
   ],
   "source": [
    "print(string)"
   ]
  }
 ],
 "metadata": {
  "kernelspec": {
   "display_name": "pyswap",
   "language": "python",
   "name": "python3"
  },
  "language_info": {
   "codemirror_mode": {
    "name": "ipython",
    "version": 3
   },
   "file_extension": ".py",
   "mimetype": "text/x-python",
   "name": "python",
   "nbconvert_exporter": "python",
   "pygments_lexer": "ipython3",
   "version": "3.11.5"
  }
 },
 "nbformat": 4,
 "nbformat_minor": 2
}
