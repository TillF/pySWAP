{
 "cells": [
  {
   "cell_type": "code",
   "execution_count": 1,
   "metadata": {},
   "outputs": [],
   "source": [
    "import sys\n",
    "from pathlib import Path\n",
    "\n",
    "pyswap_path = Path(\"/home/zawadzkim/projects/pySWAP\")\n",
    "sys.path.append(str(pyswap_path.resolve()))\n"
   ]
  },
  {
   "cell_type": "markdown",
   "metadata": {},
   "source": [
    "## Create a database connection\n",
    "\n",
    "Storing data in the database instead instead of individual files would make it easier to manage multiple models and their versions."
   ]
  },
  {
   "cell_type": "code",
   "execution_count": 2,
   "metadata": {},
   "outputs": [
    {
     "name": "stdout",
     "output_type": "stream",
     "text": [
      "Database exists. Connecting...\n",
      "Table swap_models exists in the database.\n",
      "Table model_iterations exists in the database.\n",
      "Table model_outputs exists in the database.\n"
     ]
    },
    {
     "data": {
      "text/plain": [
       "<pyswap.base.database.connection.DatabaseConnection at 0x7f173b893f50>"
      ]
     },
     "execution_count": 2,
     "metadata": {},
     "output_type": "execute_result"
    }
   ],
   "source": [
    "from pyswap.base.database import connection as con\n",
    "\n",
    "db_path = Path(pyswap_path, \"pyswapdb.sqlite\")\n",
    "con.DatabaseConnection(db_path)\n"
   ]
  },
  {
   "cell_type": "markdown",
   "metadata": {},
   "source": [
    "## Metadata"
   ]
  },
  {
   "cell_type": "code",
   "execution_count": 3,
   "metadata": {},
   "outputs": [],
   "source": [
    "from pyswap.base.metadata import Metadata\n",
    "\n",
    "meta = Metadata(author=\"John Doe\",\n",
    "                institution=\"University of Somewhere\",\n",
    "                email=\"john.doe@somewhere.com\",\n",
    "                project_name=\"Test\",\n",
    "                swap_ver=\"4.0\")"
   ]
  },
  {
   "cell_type": "markdown",
   "metadata": {},
   "source": [
    "## Simulation settings"
   ]
  },
  {
   "cell_type": "code",
   "execution_count": 4,
   "metadata": {},
   "outputs": [],
   "source": [
    "from pyswap.base.simsettings import *\n",
    "from datetime import date as dt\n",
    "\n",
    "environment = Environment()\n",
    "simulation_period = SimPeriod(tstart=dt(2018, 1, 1), \n",
    "                              tend=dt(2018, 1, 2))\n",
    "output_dates = OutputDates(outdat=[dt(2018, 1, 1), dt(2018, 1, 1)])\n",
    "output_files = OutputFiles(inlist_csv=['rain', 'evap'])\n",
    "\n",
    "simset = SimSettings(environment=environment,\n",
    "                     simulation_period=simulation_period,\n",
    "                    output_dates=output_dates,\n",
    "                    output_files=output_files)"
   ]
  },
  {
   "cell_type": "markdown",
   "metadata": {},
   "source": [
    "## Meteorology"
   ]
  },
  {
   "cell_type": "code",
   "execution_count": 5,
   "metadata": {},
   "outputs": [],
   "source": [
    "from pyswap.atmosphere.meteorology import MeteorologicalData\n",
    "\n",
    "# Getting meteo data from KNMI\n",
    "meteo = MeteorologicalData(metadata=meta)\n",
    "meteo.weather_kmni()"
   ]
  },
  {
   "cell_type": "code",
   "execution_count": 6,
   "metadata": {},
   "outputs": [],
   "source": [
    "from pyswap.atmosphere.meteorology import Meteorology\n",
    "\n",
    "rainflux = {'time': [1.0, 360.0], \n",
    "            'rainflux': [20.0, 20.0]}\n",
    "\n",
    "\n",
    "meteo = Meteorology(metfil='377',\n",
    "                    meteo_data=meteo,\n",
    "                    lat=43.0,\n",
    "                    swetr=True,\n",
    "                    swdivide=False,\n",
    "                    swetsine=False,\n",
    "                    swrain=0,\n",
    "                    rainflux=rainflux)\n",
    "\n"
   ]
  },
  {
   "cell_type": "markdown",
   "metadata": {},
   "source": [
    "## Crop"
   ]
  },
  {
   "cell_type": "code",
   "execution_count": 7,
   "metadata": {},
   "outputs": [],
   "source": [
    "from pyswap.plant.crop import Crop\n",
    "\n",
    "# Would be nice to have a subclass for managing the crop files\n",
    "\n",
    "croprotation = {'cropstart':[dt(2018, 1, 1), dt(2018, 1, 1), dt(2018, 1, 1)],\n",
    "                'cropend':[dt(2018, 1, 1), dt(2018, 1, 1), dt(2018, 1, 1)],\n",
    "                'cropfile':['maizes', 'potatod', 'grassd'],\n",
    "                'croptype':[1, 2, 3]}\n",
    "\n",
    "\n",
    "crop = Crop(swcrop=True,\n",
    "            rds=200.0,\n",
    "            croprotation=croprotation)"
   ]
  },
  {
   "cell_type": "code",
   "execution_count": 23,
   "metadata": {},
   "outputs": [
    {
     "data": {
      "text/plain": [
       "'SWCROP = True\\nRDS = 200.0\\n CROPSTART    CROPEND CROPFILE  CROPTYPE\\n2018-01-01 2018-01-01   maizes         1\\n2018-01-01 2018-01-01  potatod         2\\n2018-01-01 2018-01-01   grassd         3'"
      ]
     },
     "execution_count": 23,
     "metadata": {},
     "output_type": "execute_result"
    }
   ],
   "source": []
  },
  {
   "cell_type": "markdown",
   "metadata": {},
   "source": [
    "## Irrigation"
   ]
  },
  {
   "cell_type": "code",
   "execution_count": 8,
   "metadata": {},
   "outputs": [],
   "source": [
    "from pyswap.soilwater.irrigation import Irrigation\n",
    "\n",
    "irrigation = Irrigation(schedule=False,\n",
    "                        swirfix=False)  # is this is set to true, then an error is returned if additional parameters are not given"
   ]
  },
  {
   "cell_type": "markdown",
   "metadata": {},
   "source": [
    "## Drainage"
   ]
  },
  {
   "cell_type": "markdown",
   "metadata": {},
   "source": [
    "TBD."
   ]
  },
  {
   "cell_type": "markdown",
   "metadata": {},
   "source": [
    "## Soil water"
   ]
  },
  {
   "cell_type": "code",
   "execution_count": 9,
   "metadata": {},
   "outputs": [],
   "source": [
    "from pyswap.soilwater.soilmoisture import SoilMoisture\n",
    "from pyswap.soilwater.surfaceflow import SurfaceFlow\n",
    "from pyswap.soilwater.evaporation import Evaporation\n",
    "\n",
    "\n",
    "soilmoisture = SoilMoisture(swinco=2,\n",
    "                            gwli=-75.0)\n",
    "\n",
    "surfaceflow = SurfaceFlow(swpondmx=False,\n",
    "                          pondmx=0.2,\n",
    "                          swrunon=False)\n",
    "\n",
    "evaporation = Evaporation(swcfbs=False,\n",
    "                          cfevappond=1.25,\n",
    "                          swredu=1,\n",
    "                          cofredbl=0.35,\n",
    "                          rsigni=0.5)\n"
   ]
  },
  {
   "cell_type": "code",
   "execution_count": 10,
   "metadata": {},
   "outputs": [],
   "source": [
    "from pyswap.soilwater.soilprofile import SoilProfile\n",
    "from pandas import DataFrame\n",
    "\n",
    "df_soilprofile = DataFrame({\n",
    "    'ISUBLAY': [1, 2, 3, 4],\n",
    "    'ISOILLAY': [1, 1, 2, 2],\n",
    "    'HSUBLAY': [10.0, 20.0, 30.0, 140.0],\n",
    "    'HCOMP': [1.0, 5.0, 5.0, 10.0],\n",
    "    'NCOMP': [10, 4, 6, 14]\n",
    "})\n",
    "\n",
    "soilprofile = SoilProfile(soilprofile=df_soilprofile,\n",
    "                          swsophy=False,\n",
    "                          swhyst=False,\n",
    "                          swmacro=False)\n",
    "\n",
    "soilprofile2 = soilprofile.copy()\n"
   ]
  },
  {
   "cell_type": "code",
   "execution_count": 11,
   "metadata": {},
   "outputs": [],
   "source": [
    "from pyswap.soilwater.snow import SnowAndFrost\n",
    "\n",
    "snow = SnowAndFrost(swsnow=False,\n",
    "                    swfrost=False)\n"
   ]
  },
  {
   "cell_type": "code",
   "execution_count": 12,
   "metadata": {},
   "outputs": [],
   "source": [
    "from pyswap.soilwater.richards import RichardsSettings\n",
    "\n",
    "richards = RichardsSettings(swkmean=1,\n",
    "                            swkimpl=False)\n"
   ]
  },
  {
   "cell_type": "code",
   "execution_count": 13,
   "metadata": {},
   "outputs": [],
   "source": [
    "from pyswap.base.boundary import LateralDrainage, BottomBoundary\n",
    "\n",
    "lateral_drainage = LateralDrainage(swdra=0)\n",
    "bottom_boundary = BottomBoundary(swbbcfile=False, \n",
    "                                 swbotb=6)"
   ]
  },
  {
   "cell_type": "markdown",
   "metadata": {},
   "source": [
    "## Putting the model together"
   ]
  },
  {
   "cell_type": "code",
   "execution_count": 14,
   "metadata": {},
   "outputs": [],
   "source": [
    "from pyswap.base.model import Model\n",
    "\n",
    "\n",
    "model = Model(metadata=meta,\n",
    "            simsettings=simset,\n",
    "            meteorology=meteo,\n",
    "            crop=crop,\n",
    "            irrigation=irrigation,\n",
    "            soilmoisture=soilmoisture,\n",
    "            surfaceflow=surfaceflow,\n",
    "            evaporation=evaporation,\n",
    "            soilprofile=soilprofile,\n",
    "            snowandfrost=snow,\n",
    "            richards=richards,\n",
    "            lateraldrainage=lateral_drainage,\n",
    "            bottomboundary=bottom_boundary)"
   ]
  },
  {
   "cell_type": "code",
   "execution_count": 28,
   "metadata": {},
   "outputs": [
    {
     "data": {
      "text/plain": [
       "False"
      ]
     },
     "execution_count": 28,
     "metadata": {},
     "output_type": "execute_result"
    }
   ],
   "source": [
    "model.irrigation.swirfix"
   ]
  },
  {
   "cell_type": "code",
   "execution_count": 32,
   "metadata": {},
   "outputs": [
    {
     "data": {
      "text/html": [
       "<div>\n",
       "<style scoped>\n",
       "    .dataframe tbody tr th:only-of-type {\n",
       "        vertical-align: middle;\n",
       "    }\n",
       "\n",
       "    .dataframe tbody tr th {\n",
       "        vertical-align: top;\n",
       "    }\n",
       "\n",
       "    .dataframe thead th {\n",
       "        text-align: right;\n",
       "    }\n",
       "</style>\n",
       "<table border=\"1\" class=\"dataframe\">\n",
       "  <thead>\n",
       "    <tr style=\"text-align: right;\">\n",
       "      <th></th>\n",
       "      <th>ISUBLAY</th>\n",
       "      <th>ISOILLAY</th>\n",
       "      <th>HSUBLAY</th>\n",
       "      <th>HCOMP</th>\n",
       "      <th>NCOMP</th>\n",
       "    </tr>\n",
       "  </thead>\n",
       "  <tbody>\n",
       "    <tr>\n",
       "      <th>0</th>\n",
       "      <td>1</td>\n",
       "      <td>1</td>\n",
       "      <td>10.0</td>\n",
       "      <td>1.0</td>\n",
       "      <td>10</td>\n",
       "    </tr>\n",
       "    <tr>\n",
       "      <th>1</th>\n",
       "      <td>2</td>\n",
       "      <td>1</td>\n",
       "      <td>20.0</td>\n",
       "      <td>5.0</td>\n",
       "      <td>4</td>\n",
       "    </tr>\n",
       "    <tr>\n",
       "      <th>2</th>\n",
       "      <td>3</td>\n",
       "      <td>2</td>\n",
       "      <td>30.0</td>\n",
       "      <td>5.0</td>\n",
       "      <td>6</td>\n",
       "    </tr>\n",
       "    <tr>\n",
       "      <th>3</th>\n",
       "      <td>4</td>\n",
       "      <td>2</td>\n",
       "      <td>140.0</td>\n",
       "      <td>10.0</td>\n",
       "      <td>14</td>\n",
       "    </tr>\n",
       "  </tbody>\n",
       "</table>\n",
       "</div>"
      ],
      "text/plain": [
       "   ISUBLAY  ISOILLAY  HSUBLAY  HCOMP  NCOMP\n",
       "0        1         1     10.0    1.0     10\n",
       "1        2         1     20.0    5.0      4\n",
       "2        3         2     30.0    5.0      6\n",
       "3        4         2    140.0   10.0     14"
      ]
     },
     "execution_count": 32,
     "metadata": {},
     "output_type": "execute_result"
    }
   ],
   "source": [
    "model.soilprofile.soilprofile"
   ]
  },
  {
   "cell_type": "code",
   "execution_count": 30,
   "metadata": {},
   "outputs": [
    {
     "data": {
      "text/plain": [
       "True"
      ]
     },
     "execution_count": 30,
     "metadata": {},
     "output_type": "execute_result"
    }
   ],
   "source": [
    "model.irrigation.swirfix"
   ]
  }
 ],
 "metadata": {
  "kernelspec": {
   "display_name": "pyswap",
   "language": "python",
   "name": "python3"
  },
  "language_info": {
   "codemirror_mode": {
    "name": "ipython",
    "version": 3
   },
   "file_extension": ".py",
   "mimetype": "text/x-python",
   "name": "python",
   "nbconvert_exporter": "python",
   "pygments_lexer": "ipython3",
   "version": "3.11.5"
  }
 },
 "nbformat": 4,
 "nbformat_minor": 2
}
